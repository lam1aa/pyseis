{
 "cells": [
  {
   "cell_type": "code",
   "execution_count": 7,
   "metadata": {},
   "outputs": [],
   "source": [
    "import pandas as pd\n",
    "import numpy as np"
   ]
  },
  {
   "cell_type": "markdown",
   "metadata": {},
   "source": [
    "# Comparison of Seismic Analysis Packages: eseis (R) vs pyseis (Python)\n",
    "\n",
    "This report provides a comprehensive comparison between 11 functions from two seismic analysis packages: eseis for R and pyseis for Python.\n",
    "Throught the comparison, same input data has been used to test all the modules but there are slight changes due to randomness of the process.\n",
    "\n",
    "\n",
    "## Functions for spatial data handling\n",
    "\n",
    "For station A,B and C we tested these following modules:\n",
    "- spatial_convert\n",
    "- spatial_distance\n",
    "- spatial_amplitude\n",
    "- spatial_pmax\n",
    "- spatial_migrate\n",
    "- spatial_clip\n",
    "  \n",
    "\n",
    "### eseis (R)\n",
    "\n",
    "\n",
    "\n",
    "### pyseis (Python)\n",
    "\n",
    "#### The original stations (WGS84 geographic coordinates)\n"
   ]
  },
  {
   "cell_type": "code",
   "execution_count": 12,
   "metadata": {},
   "outputs": [
    {
     "data": {
      "text/html": [
       "<div>\n",
       "<style scoped>\n",
       "    .dataframe tbody tr th:only-of-type {\n",
       "        vertical-align: middle;\n",
       "    }\n",
       "\n",
       "    .dataframe tbody tr th {\n",
       "        vertical-align: top;\n",
       "    }\n",
       "\n",
       "    .dataframe thead th {\n",
       "        text-align: right;\n",
       "    }\n",
       "</style>\n",
       "<table border=\"1\" class=\"dataframe\">\n",
       "  <thead>\n",
       "    <tr style=\"text-align: right;\">\n",
       "      <th></th>\n",
       "      <th>0</th>\n",
       "      <th>1</th>\n",
       "    </tr>\n",
       "  </thead>\n",
       "  <tbody>\n",
       "    <tr>\n",
       "      <th>0</th>\n",
       "      <td>25</td>\n",
       "      <td>25</td>\n",
       "    </tr>\n",
       "    <tr>\n",
       "      <th>1</th>\n",
       "      <td>75</td>\n",
       "      <td>75</td>\n",
       "    </tr>\n",
       "    <tr>\n",
       "      <th>2</th>\n",
       "      <td>50</td>\n",
       "      <td>90</td>\n",
       "    </tr>\n",
       "  </tbody>\n",
       "</table>\n",
       "</div>"
      ],
      "text/plain": [
       "    0   1\n",
       "0  25  25\n",
       "1  75  75\n",
       "2  50  90"
      ]
     },
     "execution_count": 12,
     "metadata": {},
     "output_type": "execute_result"
    }
   ],
   "source": [
    "pd.read_csv('../test/output/Py_original_stations.csv', header=None)"
   ]
  },
  {
   "cell_type": "markdown",
   "metadata": {},
   "source": [
    "#### The converted stations (UTM zone 32N)"
   ]
  },
  {
   "cell_type": "code",
   "execution_count": 13,
   "metadata": {},
   "outputs": [
    {
     "data": {
      "text/html": [
       "<div>\n",
       "<style scoped>\n",
       "    .dataframe tbody tr th:only-of-type {\n",
       "        vertical-align: middle;\n",
       "    }\n",
       "\n",
       "    .dataframe tbody tr th {\n",
       "        vertical-align: top;\n",
       "    }\n",
       "\n",
       "    .dataframe thead th {\n",
       "        text-align: right;\n",
       "    }\n",
       "</style>\n",
       "<table border=\"1\" class=\"dataframe\">\n",
       "  <thead>\n",
       "    <tr style=\"text-align: right;\">\n",
       "      <th></th>\n",
       "      <th>0</th>\n",
       "      <th>1</th>\n",
       "    </tr>\n",
       "  </thead>\n",
       "  <tbody>\n",
       "    <tr>\n",
       "      <th>0</th>\n",
       "      <td>2.128199e+06</td>\n",
       "      <td>2.862733e+06</td>\n",
       "    </tr>\n",
       "    <tr>\n",
       "      <th>1</th>\n",
       "      <td>2.041350e+06</td>\n",
       "      <td>9.303692e+06</td>\n",
       "    </tr>\n",
       "    <tr>\n",
       "      <th>2</th>\n",
       "      <td>5.000000e+05</td>\n",
       "      <td>9.997965e+06</td>\n",
       "    </tr>\n",
       "  </tbody>\n",
       "</table>\n",
       "</div>"
      ],
      "text/plain": [
       "              0             1\n",
       "0  2.128199e+06  2.862733e+06\n",
       "1  2.041350e+06  9.303692e+06\n",
       "2  5.000000e+05  9.997965e+06"
      ]
     },
     "execution_count": 13,
     "metadata": {},
     "output_type": "execute_result"
    }
   ],
   "source": [
    "pd.read_csv('../test/output/Py_converted_stations.csv', header=None)"
   ]
  },
  {
   "cell_type": "markdown",
   "metadata": {},
   "source": [
    "#### The Digital ELevation Model with the stations\n",
    "\n",
    "![image_from_sp_dist](../test/output/Py_spatial_dist_0.png)\n",
    "\n",
    "#### This Is the distance matrix of the stations\n"
   ]
  },
  {
   "cell_type": "code",
   "execution_count": 17,
   "metadata": {},
   "outputs": [
    {
     "data": {
      "text/html": [
       "<div>\n",
       "<style scoped>\n",
       "    .dataframe tbody tr th:only-of-type {\n",
       "        vertical-align: middle;\n",
       "    }\n",
       "\n",
       "    .dataframe tbody tr th {\n",
       "        vertical-align: top;\n",
       "    }\n",
       "\n",
       "    .dataframe thead th {\n",
       "        text-align: right;\n",
       "    }\n",
       "</style>\n",
       "<table border=\"1\" class=\"dataframe\">\n",
       "  <thead>\n",
       "    <tr style=\"text-align: right;\">\n",
       "      <th></th>\n",
       "      <th>A</th>\n",
       "      <th>B</th>\n",
       "      <th>C</th>\n",
       "    </tr>\n",
       "  </thead>\n",
       "  <tbody>\n",
       "    <tr>\n",
       "      <th>0</th>\n",
       "      <td>0.000000</td>\n",
       "      <td>169.602995</td>\n",
       "      <td>278.934041</td>\n",
       "    </tr>\n",
       "    <tr>\n",
       "      <th>1</th>\n",
       "      <td>169.602995</td>\n",
       "      <td>0.000000</td>\n",
       "      <td>117.906107</td>\n",
       "    </tr>\n",
       "    <tr>\n",
       "      <th>2</th>\n",
       "      <td>278.934041</td>\n",
       "      <td>117.906107</td>\n",
       "      <td>0.000000</td>\n",
       "    </tr>\n",
       "  </tbody>\n",
       "</table>\n",
       "</div>"
      ],
      "text/plain": [
       "            A           B           C\n",
       "0    0.000000  169.602995  278.934041\n",
       "1  169.602995    0.000000  117.906107\n",
       "2  278.934041  117.906107    0.000000"
      ]
     },
     "execution_count": 17,
     "metadata": {},
     "output_type": "execute_result"
    }
   ],
   "source": [
    "pd.read_csv('../test/output/distance_matrix.csv')"
   ]
  },
  {
   "cell_type": "markdown",
   "metadata": {},
   "source": [
    "\n",
    "#### The plot for distance matrix\n",
    "\n",
    "![image_from_sp_dist](../test/output/Py_spatial_dist_mat.png)\n",
    "\n",
    "#### The synthetic signal data for the stations (TOP 5 ROWS)\n"
   ]
  },
  {
   "cell_type": "code",
   "execution_count": 18,
   "metadata": {},
   "outputs": [
    {
     "data": {
      "text/html": [
       "<div>\n",
       "<style scoped>\n",
       "    .dataframe tbody tr th:only-of-type {\n",
       "        vertical-align: middle;\n",
       "    }\n",
       "\n",
       "    .dataframe tbody tr th {\n",
       "        vertical-align: top;\n",
       "    }\n",
       "\n",
       "    .dataframe thead th {\n",
       "        text-align: right;\n",
       "    }\n",
       "</style>\n",
       "<table border=\"1\" class=\"dataframe\">\n",
       "  <thead>\n",
       "    <tr style=\"text-align: right;\">\n",
       "      <th></th>\n",
       "      <th>A</th>\n",
       "      <th>B</th>\n",
       "      <th>C</th>\n",
       "    </tr>\n",
       "  </thead>\n",
       "  <tbody>\n",
       "    <tr>\n",
       "      <th>0</th>\n",
       "      <td>1.879265e-22</td>\n",
       "      <td>3.758530e-24</td>\n",
       "      <td>1.879265e-24</td>\n",
       "    </tr>\n",
       "    <tr>\n",
       "      <th>1</th>\n",
       "      <td>2.293963e-22</td>\n",
       "      <td>4.587925e-24</td>\n",
       "      <td>2.293963e-24</td>\n",
       "    </tr>\n",
       "    <tr>\n",
       "      <th>2</th>\n",
       "      <td>2.799052e-22</td>\n",
       "      <td>5.598103e-24</td>\n",
       "      <td>2.799052e-24</td>\n",
       "    </tr>\n",
       "    <tr>\n",
       "      <th>3</th>\n",
       "      <td>3.413987e-22</td>\n",
       "      <td>6.827973e-24</td>\n",
       "      <td>3.413987e-24</td>\n",
       "    </tr>\n",
       "    <tr>\n",
       "      <th>4</th>\n",
       "      <td>4.162354e-22</td>\n",
       "      <td>8.324707e-24</td>\n",
       "      <td>4.162354e-24</td>\n",
       "    </tr>\n",
       "  </tbody>\n",
       "</table>\n",
       "</div>"
      ],
      "text/plain": [
       "              A             B             C\n",
       "0  1.879265e-22  3.758530e-24  1.879265e-24\n",
       "1  2.293963e-22  4.587925e-24  2.293963e-24\n",
       "2  2.799052e-22  5.598103e-24  2.799052e-24\n",
       "3  3.413987e-22  6.827973e-24  3.413987e-24\n",
       "4  4.162354e-22  8.324707e-24  4.162354e-24"
      ]
     },
     "execution_count": 18,
     "metadata": {},
     "output_type": "execute_result"
    }
   ],
   "source": [
    "pd.read_csv('../test/output/Py_spatial_synth_signal.csv').head(5)"
   ]
  },
  {
   "cell_type": "markdown",
   "metadata": {},
   "source": [
    "\n",
    "#### The Most likely location for the signal amplitude\n"
   ]
  },
  {
   "cell_type": "code",
   "execution_count": null,
   "metadata": {},
   "outputs": [],
   "source": [
    "pd.read_csv('../test/output/Py_spatial_synth_signal.csv', header=None)"
   ]
  },
  {
   "cell_type": "markdown",
   "metadata": {},
   "source": [
    "\n",
    "#### The plot for the most likely signal\n",
    "\n",
    "![image_from_sp_dist](../test/output/Py_spatial_amp.png)\n",
    "\n",
    "#### The sysnthetic seismic signal data\n"
   ]
  },
  {
   "cell_type": "code",
   "execution_count": 20,
   "metadata": {},
   "outputs": [
    {
     "data": {
      "text/html": [
       "<div>\n",
       "<style scoped>\n",
       "    .dataframe tbody tr th:only-of-type {\n",
       "        vertical-align: middle;\n",
       "    }\n",
       "\n",
       "    .dataframe tbody tr th {\n",
       "        vertical-align: top;\n",
       "    }\n",
       "\n",
       "    .dataframe thead th {\n",
       "        text-align: right;\n",
       "    }\n",
       "</style>\n",
       "<table border=\"1\" class=\"dataframe\">\n",
       "  <thead>\n",
       "    <tr style=\"text-align: right;\">\n",
       "      <th></th>\n",
       "      <th>A</th>\n",
       "      <th>B</th>\n",
       "      <th>C</th>\n",
       "    </tr>\n",
       "  </thead>\n",
       "  <tbody>\n",
       "    <tr>\n",
       "      <th>0</th>\n",
       "      <td>0.043312</td>\n",
       "      <td>-0.017252</td>\n",
       "      <td>-0.117635</td>\n",
       "    </tr>\n",
       "    <tr>\n",
       "      <th>1</th>\n",
       "      <td>0.225085</td>\n",
       "      <td>0.177777</td>\n",
       "      <td>-0.067801</td>\n",
       "    </tr>\n",
       "    <tr>\n",
       "      <th>2</th>\n",
       "      <td>-0.075016</td>\n",
       "      <td>0.096713</td>\n",
       "      <td>0.047650</td>\n",
       "    </tr>\n",
       "    <tr>\n",
       "      <th>3</th>\n",
       "      <td>0.028875</td>\n",
       "      <td>-0.054103</td>\n",
       "      <td>0.188266</td>\n",
       "    </tr>\n",
       "    <tr>\n",
       "      <th>4</th>\n",
       "      <td>0.073194</td>\n",
       "      <td>-0.174475</td>\n",
       "      <td>0.078423</td>\n",
       "    </tr>\n",
       "  </tbody>\n",
       "</table>\n",
       "</div>"
      ],
      "text/plain": [
       "          A         B         C\n",
       "0  0.043312 -0.017252 -0.117635\n",
       "1  0.225085  0.177777 -0.067801\n",
       "2 -0.075016  0.096713  0.047650\n",
       "3  0.028875 -0.054103  0.188266\n",
       "4  0.073194 -0.174475  0.078423"
      ]
     },
     "execution_count": 20,
     "metadata": {},
     "output_type": "execute_result"
    }
   ],
   "source": [
    "pd.read_csv('../test/output/Py_synth_seis_signals.csv').head(5)"
   ]
  },
  {
   "cell_type": "markdown",
   "metadata": {},
   "source": [
    "\n",
    "#### The migrated result\n",
    "\n",
    "![image_from_sp_dist](../test/output/Py_spatial_migration.png)\n"
   ]
  },
  {
   "cell_type": "code",
   "execution_count": 28,
   "metadata": {},
   "outputs": [
    {
     "name": "stdout",
     "output_type": "stream",
     "text": [
      "\n",
      "Migrated data summary:\n",
      "Min value: 0.579654636167482\n",
      "Max value: 0.999072837324217\n",
      "Mean value: 0.9040497023372415\n"
     ]
    }
   ],
   "source": [
    "migrated_data = pd.read_csv('../test/output/Py_spatial_migrated_data.csv', header=None)\n",
    "# Print summary statistics of the migrated result\n",
    "print(\"\\nMigrated data summary:\")\n",
    "print(f\"Min value: {np.min(migrated_data)}\")\n",
    "print(f\"Max value: {np.max(migrated_data)}\")\n",
    "print(f\"Mean value: {np.mean(migrated_data)}\")"
   ]
  },
  {
   "cell_type": "markdown",
   "metadata": {},
   "source": [
    "\n",
    "#### The clipped reult\n",
    "\n",
    "![image_from_sp_dist](../test/output/Py_spatial_clipped.png)\n",
    "\n"
   ]
  },
  {
   "cell_type": "code",
   "execution_count": 29,
   "metadata": {},
   "outputs": [
    {
     "name": "stdout",
     "output_type": "stream",
     "text": [
      "\n",
      "Clipped migrated data summary:\n",
      "Min value: 0.0\n",
      "Max value: 1.0\n",
      "Mean value: 0.6806035058682092\n"
     ]
    }
   ],
   "source": [
    "clipped_data = pd.read_csv('../test/output/Py_spatial_clipped_data.csv')\n",
    "# Print summary statistics of the clipped result\n",
    "print(\"\\nClipped migrated data summary:\")\n",
    "print(f\"Min value: {np.nanmin(clipped_data)}\")\n",
    "print(f\"Max value: {np.nanmax(clipped_data)}\")\n",
    "print(f\"Mean value: {np.nanmean(clipped_data)}\")"
   ]
  },
  {
   "cell_type": "code",
   "execution_count": null,
   "metadata": {},
   "outputs": [],
   "source": []
  }
 ],
 "metadata": {
  "kernelspec": {
   "display_name": "Python 3 (ipykernel)",
   "language": "python",
   "name": "python3"
  },
  "language_info": {
   "codemirror_mode": {
    "name": "ipython",
    "version": 3
   },
   "file_extension": ".py",
   "mimetype": "text/x-python",
   "name": "python",
   "nbconvert_exporter": "python",
   "pygments_lexer": "ipython3",
   "version": "3.11.0"
  }
 },
 "nbformat": 4,
 "nbformat_minor": 4
}
