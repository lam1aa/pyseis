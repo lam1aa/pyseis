{
 "cells": [
  {
   "cell_type": "code",
   "execution_count": 1,
   "metadata": {
    "execution": {
     "iopub.execute_input": "2024-08-09T13:24:33.990043Z",
     "iopub.status.busy": "2024-08-09T13:24:33.990043Z",
     "iopub.status.idle": "2024-08-09T13:24:34.363580Z",
     "shell.execute_reply": "2024-08-09T13:24:34.363580Z"
    }
   },
   "outputs": [],
   "source": [
    "import pandas as pd\n",
    "import numpy as np"
   ]
  },
  {
   "cell_type": "markdown",
   "metadata": {},
   "source": [
    "# Comparison of Seismic Analysis Packages: eseis (R) vs pyseis (Python)\n",
    "\n",
    "This report provides a comprehensive comparison between 11 functions from two seismic analysis packages: eseis for R and pyseis for Python.\n",
    "Throught the comparison, same input data has been used to test all the modules but there are slight changes due to randomness of the process.\n",
    "\n",
    "\n",
    "## Functions for spatial data handling\n",
    "\n",
    "For station A,B and C we tested these following modules:\n",
    "- `spatial_convert`\n",
    "- `spatial_distance`\n",
    "- `spatial_amplitude`\n",
    "- `spatial_pmax`\n",
    "- `spatial_migrate`\n",
    "- `spatial_clip`\n",
    "  "
   ]
  },
  {
   "cell_type": "markdown",
   "metadata": {},
   "source": [
    "### eseis (R)\n"
   ]
  },
  {
   "cell_type": "markdown",
   "metadata": {},
   "source": [
    "\n",
    "#### The original stations (WGS84 geographic coordinates)"
   ]
  },
  {
   "cell_type": "code",
   "execution_count": 2,
   "metadata": {
    "execution": {
     "iopub.execute_input": "2024-08-09T13:24:34.363580Z",
     "iopub.status.busy": "2024-08-09T13:24:34.363580Z",
     "iopub.status.idle": "2024-08-09T13:24:34.380869Z",
     "shell.execute_reply": "2024-08-09T13:24:34.380869Z"
    }
   },
   "outputs": [
    {
     "data": {
      "text/html": [
       "<div>\n",
       "<style scoped>\n",
       "    .dataframe tbody tr th:only-of-type {\n",
       "        vertical-align: middle;\n",
       "    }\n",
       "\n",
       "    .dataframe tbody tr th {\n",
       "        vertical-align: top;\n",
       "    }\n",
       "\n",
       "    .dataframe thead th {\n",
       "        text-align: right;\n",
       "    }\n",
       "</style>\n",
       "<table border=\"1\" class=\"dataframe\">\n",
       "  <thead>\n",
       "    <tr style=\"text-align: right;\">\n",
       "      <th></th>\n",
       "      <th>0</th>\n",
       "      <th>1</th>\n",
       "      <th>2</th>\n",
       "    </tr>\n",
       "  </thead>\n",
       "  <tbody>\n",
       "    <tr>\n",
       "      <th>0</th>\n",
       "      <td>NaN</td>\n",
       "      <td>x</td>\n",
       "      <td>y</td>\n",
       "    </tr>\n",
       "    <tr>\n",
       "      <th>1</th>\n",
       "      <td>1.0</td>\n",
       "      <td>25</td>\n",
       "      <td>25</td>\n",
       "    </tr>\n",
       "    <tr>\n",
       "      <th>2</th>\n",
       "      <td>2.0</td>\n",
       "      <td>75</td>\n",
       "      <td>75</td>\n",
       "    </tr>\n",
       "    <tr>\n",
       "      <th>3</th>\n",
       "      <td>3.0</td>\n",
       "      <td>50</td>\n",
       "      <td>90</td>\n",
       "    </tr>\n",
       "  </tbody>\n",
       "</table>\n",
       "</div>"
      ],
      "text/plain": [
       "     0   1   2\n",
       "0  NaN   x   y\n",
       "1  1.0  25  25\n",
       "2  2.0  75  75\n",
       "3  3.0  50  90"
      ]
     },
     "execution_count": 2,
     "metadata": {},
     "output_type": "execute_result"
    }
   ],
   "source": [
    "pd.read_csv('../R/output/R_original_stations.csv', header=None)"
   ]
  },
  {
   "cell_type": "markdown",
   "metadata": {},
   "source": [
    "#### The converted stations (UTM zone 32N) from `spatial_convert`"
   ]
  },
  {
   "cell_type": "code",
   "execution_count": 3,
   "metadata": {
    "execution": {
     "iopub.execute_input": "2024-08-09T13:24:34.392879Z",
     "iopub.status.busy": "2024-08-09T13:24:34.392879Z",
     "iopub.status.idle": "2024-08-09T13:24:34.417890Z",
     "shell.execute_reply": "2024-08-09T13:24:34.417890Z"
    }
   },
   "outputs": [
    {
     "data": {
      "text/html": [
       "<div>\n",
       "<style scoped>\n",
       "    .dataframe tbody tr th:only-of-type {\n",
       "        vertical-align: middle;\n",
       "    }\n",
       "\n",
       "    .dataframe tbody tr th {\n",
       "        vertical-align: top;\n",
       "    }\n",
       "\n",
       "    .dataframe thead th {\n",
       "        text-align: right;\n",
       "    }\n",
       "</style>\n",
       "<table border=\"1\" class=\"dataframe\">\n",
       "  <thead>\n",
       "    <tr style=\"text-align: right;\">\n",
       "      <th></th>\n",
       "      <th>0</th>\n",
       "      <th>1</th>\n",
       "      <th>2</th>\n",
       "    </tr>\n",
       "  </thead>\n",
       "  <tbody>\n",
       "    <tr>\n",
       "      <th>0</th>\n",
       "      <td>NaN</td>\n",
       "      <td>x</td>\n",
       "      <td>y</td>\n",
       "    </tr>\n",
       "    <tr>\n",
       "      <th>1</th>\n",
       "      <td>1.0</td>\n",
       "      <td>2128199.05236227</td>\n",
       "      <td>2862732.77717741</td>\n",
       "    </tr>\n",
       "    <tr>\n",
       "      <th>2</th>\n",
       "      <td>2.0</td>\n",
       "      <td>2041350.23413185</td>\n",
       "      <td>9303691.50251585</td>\n",
       "    </tr>\n",
       "    <tr>\n",
       "      <th>3</th>\n",
       "      <td>3.0</td>\n",
       "      <td>5e+05</td>\n",
       "      <td>9997964.943021</td>\n",
       "    </tr>\n",
       "  </tbody>\n",
       "</table>\n",
       "</div>"
      ],
      "text/plain": [
       "     0                 1                 2\n",
       "0  NaN                 x                 y\n",
       "1  1.0  2128199.05236227  2862732.77717741\n",
       "2  2.0  2041350.23413185  9303691.50251585\n",
       "3  3.0             5e+05    9997964.943021"
      ]
     },
     "execution_count": 3,
     "metadata": {},
     "output_type": "execute_result"
    }
   ],
   "source": [
    "pd.read_csv('../R/output/R_converted_stations.csv', header=None)"
   ]
  },
  {
   "cell_type": "markdown",
   "metadata": {},
   "source": [
    "### pyseis (Python)\n"
   ]
  },
  {
   "cell_type": "markdown",
   "metadata": {},
   "source": [
    "\n",
    "#### The original stations (WGS84 geographic coordinates)"
   ]
  },
  {
   "cell_type": "code",
   "execution_count": 4,
   "metadata": {
    "execution": {
     "iopub.execute_input": "2024-08-09T13:24:34.417890Z",
     "iopub.status.busy": "2024-08-09T13:24:34.417890Z",
     "iopub.status.idle": "2024-08-09T13:24:34.426808Z",
     "shell.execute_reply": "2024-08-09T13:24:34.426808Z"
    }
   },
   "outputs": [
    {
     "data": {
      "text/html": [
       "<div>\n",
       "<style scoped>\n",
       "    .dataframe tbody tr th:only-of-type {\n",
       "        vertical-align: middle;\n",
       "    }\n",
       "\n",
       "    .dataframe tbody tr th {\n",
       "        vertical-align: top;\n",
       "    }\n",
       "\n",
       "    .dataframe thead th {\n",
       "        text-align: right;\n",
       "    }\n",
       "</style>\n",
       "<table border=\"1\" class=\"dataframe\">\n",
       "  <thead>\n",
       "    <tr style=\"text-align: right;\">\n",
       "      <th></th>\n",
       "      <th>0</th>\n",
       "      <th>1</th>\n",
       "    </tr>\n",
       "  </thead>\n",
       "  <tbody>\n",
       "    <tr>\n",
       "      <th>0</th>\n",
       "      <td>25</td>\n",
       "      <td>25</td>\n",
       "    </tr>\n",
       "    <tr>\n",
       "      <th>1</th>\n",
       "      <td>75</td>\n",
       "      <td>75</td>\n",
       "    </tr>\n",
       "    <tr>\n",
       "      <th>2</th>\n",
       "      <td>50</td>\n",
       "      <td>90</td>\n",
       "    </tr>\n",
       "  </tbody>\n",
       "</table>\n",
       "</div>"
      ],
      "text/plain": [
       "    0   1\n",
       "0  25  25\n",
       "1  75  75\n",
       "2  50  90"
      ]
     },
     "execution_count": 4,
     "metadata": {},
     "output_type": "execute_result"
    }
   ],
   "source": [
    "pd.read_csv('../test/output/Py_original_stations.csv', header=None)"
   ]
  },
  {
   "cell_type": "markdown",
   "metadata": {},
   "source": [
    "#### The converted stations (UTM zone 32N) from `spatial_convert`"
   ]
  },
  {
   "cell_type": "code",
   "execution_count": 5,
   "metadata": {
    "execution": {
     "iopub.execute_input": "2024-08-09T13:24:34.426808Z",
     "iopub.status.busy": "2024-08-09T13:24:34.426808Z",
     "iopub.status.idle": "2024-08-09T13:24:34.435512Z",
     "shell.execute_reply": "2024-08-09T13:24:34.435512Z"
    }
   },
   "outputs": [
    {
     "data": {
      "text/html": [
       "<div>\n",
       "<style scoped>\n",
       "    .dataframe tbody tr th:only-of-type {\n",
       "        vertical-align: middle;\n",
       "    }\n",
       "\n",
       "    .dataframe tbody tr th {\n",
       "        vertical-align: top;\n",
       "    }\n",
       "\n",
       "    .dataframe thead th {\n",
       "        text-align: right;\n",
       "    }\n",
       "</style>\n",
       "<table border=\"1\" class=\"dataframe\">\n",
       "  <thead>\n",
       "    <tr style=\"text-align: right;\">\n",
       "      <th></th>\n",
       "      <th>0</th>\n",
       "      <th>1</th>\n",
       "    </tr>\n",
       "  </thead>\n",
       "  <tbody>\n",
       "    <tr>\n",
       "      <th>0</th>\n",
       "      <td>2.128199e+06</td>\n",
       "      <td>2.862733e+06</td>\n",
       "    </tr>\n",
       "    <tr>\n",
       "      <th>1</th>\n",
       "      <td>2.041350e+06</td>\n",
       "      <td>9.303692e+06</td>\n",
       "    </tr>\n",
       "    <tr>\n",
       "      <th>2</th>\n",
       "      <td>5.000000e+05</td>\n",
       "      <td>9.997965e+06</td>\n",
       "    </tr>\n",
       "  </tbody>\n",
       "</table>\n",
       "</div>"
      ],
      "text/plain": [
       "              0             1\n",
       "0  2.128199e+06  2.862733e+06\n",
       "1  2.041350e+06  9.303692e+06\n",
       "2  5.000000e+05  9.997965e+06"
      ]
     },
     "execution_count": 5,
     "metadata": {},
     "output_type": "execute_result"
    }
   ],
   "source": [
    "pd.read_csv('../test/output/Py_converted_stations.csv', header=None)"
   ]
  },
  {
   "cell_type": "markdown",
   "metadata": {},
   "source": [
    "### eseis (R)\n",
    "\n",
    "#### The Digital Elevation Model with the stations from `spatial_distance`\n",
    "\n",
    "![image_from_sp_dist](../R/output/R_spatial_dist_0.png)\n"
   ]
  },
  {
   "cell_type": "markdown",
   "metadata": {},
   "source": [
    "\n",
    "### pyseis (Python)\n",
    "\n",
    "#### The Digital Elevation Model with the stations from `spatial_distance`\n",
    "\n",
    "![image_from_sp_dist](../test/output/Py_spatial_dist_0.png)\n"
   ]
  },
  {
   "cell_type": "markdown",
   "metadata": {},
   "source": [
    "### eseis (R)\n"
   ]
  },
  {
   "cell_type": "markdown",
   "metadata": {},
   "source": [
    "\n",
    "#### This Is the distance matrix of the stations"
   ]
  },
  {
   "cell_type": "code",
   "execution_count": 6,
   "metadata": {
    "execution": {
     "iopub.execute_input": "2024-08-09T13:24:34.435512Z",
     "iopub.status.busy": "2024-08-09T13:24:34.435512Z",
     "iopub.status.idle": "2024-08-09T13:24:34.444472Z",
     "shell.execute_reply": "2024-08-09T13:24:34.444472Z"
    }
   },
   "outputs": [
    {
     "data": {
      "text/html": [
       "<div>\n",
       "<style scoped>\n",
       "    .dataframe tbody tr th:only-of-type {\n",
       "        vertical-align: middle;\n",
       "    }\n",
       "\n",
       "    .dataframe tbody tr th {\n",
       "        vertical-align: top;\n",
       "    }\n",
       "\n",
       "    .dataframe thead th {\n",
       "        text-align: right;\n",
       "    }\n",
       "</style>\n",
       "<table border=\"1\" class=\"dataframe\">\n",
       "  <thead>\n",
       "    <tr style=\"text-align: right;\">\n",
       "      <th></th>\n",
       "      <th>Unnamed: 0</th>\n",
       "      <th>1</th>\n",
       "      <th>2</th>\n",
       "      <th>3</th>\n",
       "    </tr>\n",
       "  </thead>\n",
       "  <tbody>\n",
       "    <tr>\n",
       "      <th>0</th>\n",
       "      <td>1</td>\n",
       "      <td>0.000000</td>\n",
       "      <td>222.117997</td>\n",
       "      <td>166.651687</td>\n",
       "    </tr>\n",
       "    <tr>\n",
       "      <th>1</th>\n",
       "      <td>2</td>\n",
       "      <td>222.117997</td>\n",
       "      <td>0.000000</td>\n",
       "      <td>91.692105</td>\n",
       "    </tr>\n",
       "    <tr>\n",
       "      <th>2</th>\n",
       "      <td>3</td>\n",
       "      <td>166.651687</td>\n",
       "      <td>91.692105</td>\n",
       "      <td>0.000000</td>\n",
       "    </tr>\n",
       "  </tbody>\n",
       "</table>\n",
       "</div>"
      ],
      "text/plain": [
       "   Unnamed: 0           1           2           3\n",
       "0           1    0.000000  222.117997  166.651687\n",
       "1           2  222.117997    0.000000   91.692105\n",
       "2           3  166.651687   91.692105    0.000000"
      ]
     },
     "execution_count": 6,
     "metadata": {},
     "output_type": "execute_result"
    }
   ],
   "source": [
    "pd.read_csv('../R/output/R_spatial_dist_matrix.csv')"
   ]
  },
  {
   "cell_type": "markdown",
   "metadata": {},
   "source": [
    "### pyseis (Python)\n"
   ]
  },
  {
   "cell_type": "markdown",
   "metadata": {},
   "source": [
    "\n",
    "#### This Is the distance matrix of the stations\n"
   ]
  },
  {
   "cell_type": "code",
   "execution_count": 7,
   "metadata": {
    "execution": {
     "iopub.execute_input": "2024-08-09T13:24:34.444472Z",
     "iopub.status.busy": "2024-08-09T13:24:34.444472Z",
     "iopub.status.idle": "2024-08-09T13:24:34.458887Z",
     "shell.execute_reply": "2024-08-09T13:24:34.458887Z"
    }
   },
   "outputs": [
    {
     "data": {
      "text/html": [
       "<div>\n",
       "<style scoped>\n",
       "    .dataframe tbody tr th:only-of-type {\n",
       "        vertical-align: middle;\n",
       "    }\n",
       "\n",
       "    .dataframe tbody tr th {\n",
       "        vertical-align: top;\n",
       "    }\n",
       "\n",
       "    .dataframe thead th {\n",
       "        text-align: right;\n",
       "    }\n",
       "</style>\n",
       "<table border=\"1\" class=\"dataframe\">\n",
       "  <thead>\n",
       "    <tr style=\"text-align: right;\">\n",
       "      <th></th>\n",
       "      <th>A</th>\n",
       "      <th>B</th>\n",
       "      <th>C</th>\n",
       "    </tr>\n",
       "  </thead>\n",
       "  <tbody>\n",
       "    <tr>\n",
       "      <th>0</th>\n",
       "      <td>0.000000</td>\n",
       "      <td>186.380573</td>\n",
       "      <td>253.824408</td>\n",
       "    </tr>\n",
       "    <tr>\n",
       "      <th>1</th>\n",
       "      <td>186.380573</td>\n",
       "      <td>0.000000</td>\n",
       "      <td>126.212158</td>\n",
       "    </tr>\n",
       "    <tr>\n",
       "      <th>2</th>\n",
       "      <td>253.824408</td>\n",
       "      <td>126.212158</td>\n",
       "      <td>0.000000</td>\n",
       "    </tr>\n",
       "  </tbody>\n",
       "</table>\n",
       "</div>"
      ],
      "text/plain": [
       "            A           B           C\n",
       "0    0.000000  186.380573  253.824408\n",
       "1  186.380573    0.000000  126.212158\n",
       "2  253.824408  126.212158    0.000000"
      ]
     },
     "execution_count": 7,
     "metadata": {},
     "output_type": "execute_result"
    }
   ],
   "source": [
    "pd.read_csv('../test/output/distance_matrix.csv')"
   ]
  },
  {
   "cell_type": "markdown",
   "metadata": {},
   "source": [
    "\n",
    "#### The plot for distance matrix\n",
    "\n",
    "![image_from_sp_dist](../test/output/Py_spatial_dist_mat.png)\n"
   ]
  },
  {
   "cell_type": "markdown",
   "metadata": {},
   "source": [
    "### eseis (R)\n"
   ]
  },
  {
   "cell_type": "markdown",
   "metadata": {},
   "source": [
    "#### The Most likely location for the signal amplitude from `spatial_amplitude` and `spatial_pmax`"
   ]
  },
  {
   "cell_type": "code",
   "execution_count": 8,
   "metadata": {
    "execution": {
     "iopub.execute_input": "2024-08-09T13:24:34.458887Z",
     "iopub.status.busy": "2024-08-09T13:24:34.458887Z",
     "iopub.status.idle": "2024-08-09T13:24:34.466967Z",
     "shell.execute_reply": "2024-08-09T13:24:34.466967Z"
    }
   },
   "outputs": [
    {
     "data": {
      "text/plain": [
       "0       x\n",
       "1    25.5\n",
       "2    24.5\n",
       "Name: 1, dtype: object"
      ]
     },
     "execution_count": 8,
     "metadata": {},
     "output_type": "execute_result"
    }
   ],
   "source": [
    "pd.read_csv('../R/output/R_spatial_pmax.csv', header=None).iloc[:, -1]"
   ]
  },
  {
   "cell_type": "markdown",
   "metadata": {},
   "source": [
    "#### The plot for the most likely signal\n",
    "\n",
    "![image_from_sp_dist](../R/output/R_spatial_ampl.png)\n"
   ]
  },
  {
   "cell_type": "markdown",
   "metadata": {},
   "source": [
    "### pyseis (Python)\n"
   ]
  },
  {
   "cell_type": "markdown",
   "metadata": {},
   "source": [
    "\n",
    "#### The Most likely location for the signal amplitude from `spatial_amplitude` and `spatial_pmax`\n"
   ]
  },
  {
   "cell_type": "code",
   "execution_count": 9,
   "metadata": {
    "execution": {
     "iopub.execute_input": "2024-08-09T13:24:34.466967Z",
     "iopub.status.busy": "2024-08-09T13:24:34.466967Z",
     "iopub.status.idle": "2024-08-09T13:24:34.479645Z",
     "shell.execute_reply": "2024-08-09T13:24:34.479645Z"
    }
   },
   "outputs": [
    {
     "data": {
      "text/html": [
       "<div>\n",
       "<style scoped>\n",
       "    .dataframe tbody tr th:only-of-type {\n",
       "        vertical-align: middle;\n",
       "    }\n",
       "\n",
       "    .dataframe tbody tr th {\n",
       "        vertical-align: top;\n",
       "    }\n",
       "\n",
       "    .dataframe thead th {\n",
       "        text-align: right;\n",
       "    }\n",
       "</style>\n",
       "<table border=\"1\" class=\"dataframe\">\n",
       "  <thead>\n",
       "    <tr style=\"text-align: right;\">\n",
       "      <th></th>\n",
       "      <th>0</th>\n",
       "      <th>1</th>\n",
       "    </tr>\n",
       "  </thead>\n",
       "  <tbody>\n",
       "    <tr>\n",
       "      <th>0</th>\n",
       "      <td>0.5</td>\n",
       "      <td>29.5</td>\n",
       "    </tr>\n",
       "  </tbody>\n",
       "</table>\n",
       "</div>"
      ],
      "text/plain": [
       "     0     1\n",
       "0  0.5  29.5"
      ]
     },
     "execution_count": 9,
     "metadata": {},
     "output_type": "execute_result"
    }
   ],
   "source": [
    "pd.read_csv('../test/output/Py_pmax.csv', header=None)"
   ]
  },
  {
   "cell_type": "markdown",
   "metadata": {},
   "source": [
    "\n",
    "#### The plot for the most likely signal\n",
    "\n",
    "![image_from_sp_dist](../test/output/Py_spatial_amp.png)\n"
   ]
  },
  {
   "cell_type": "markdown",
   "metadata": {},
   "source": [
    "### eseis (R)\n"
   ]
  },
  {
   "cell_type": "markdown",
   "metadata": {},
   "source": [
    "#### The clipped result from `spatial_clip` and `spatial_migrate`\n",
    "\n",
    "![image_from_sp_dist](../R/output/R_spatial_clip.png)\n"
   ]
  },
  {
   "cell_type": "markdown",
   "metadata": {},
   "source": [
    "### pyseis (Python)\n"
   ]
  },
  {
   "cell_type": "markdown",
   "metadata": {},
   "source": [
    "\n",
    "#### The clipped result from `spatial_clip` after `spatial_migrate`\n",
    "\n",
    "![image_from_sp_dist](../test/output/Py_spatial_clipped.png)\n",
    "\n"
   ]
  },
  {
   "cell_type": "code",
   "execution_count": 10,
   "metadata": {
    "execution": {
     "iopub.execute_input": "2024-08-09T13:24:34.479645Z",
     "iopub.status.busy": "2024-08-09T13:24:34.479645Z",
     "iopub.status.idle": "2024-08-09T13:24:34.505165Z",
     "shell.execute_reply": "2024-08-09T13:24:34.505165Z"
    }
   },
   "outputs": [
    {
     "name": "stdout",
     "output_type": "stream",
     "text": [
      "\n",
      "Clipped migrated data summary:\n",
      "Min value: 0.0\n",
      "Max value: 1.0\n",
      "Mean value: 0.6176368992343158\n"
     ]
    }
   ],
   "source": [
    "clipped_data = pd.read_csv('../test/output/Py_spatial_clipped_data.csv')\n",
    "# Print summary statistics of the clipped result\n",
    "print(\"\\nClipped migrated data summary:\")\n",
    "print(f\"Min value: {np.nanmin(clipped_data)}\")\n",
    "print(f\"Max value: {np.nanmax(clipped_data)}\")\n",
    "print(f\"Mean value: {np.nanmean(clipped_data)}\")"
   ]
  },
  {
   "cell_type": "markdown",
   "metadata": {},
   "source": [
    "## Functions for Fluival data handling\n",
    "\n",
    "We tested these following modules:\n",
    "- `fmi_parameters`\n",
    "- `fmi_spectra`\n",
    "- `fmi_inversion`\n",
    "- `model_bedload`\n",
    "- `model_turbulance`\n",
    "  \n"
   ]
  },
  {
   "cell_type": "markdown",
   "metadata": {},
   "source": [
    "\n",
    "### eseis (R)\n",
    "\n"
   ]
  },
  {
   "cell_type": "markdown",
   "metadata": {},
   "source": [
    "#### The parameters created with `fmi_parameters`"
   ]
  },
  {
   "cell_type": "code",
   "execution_count": 11,
   "metadata": {
    "execution": {
     "iopub.execute_input": "2024-08-09T13:24:34.505165Z",
     "iopub.status.busy": "2024-08-09T13:24:34.505165Z",
     "iopub.status.idle": "2024-08-09T13:24:34.520959Z",
     "shell.execute_reply": "2024-08-09T13:24:34.520959Z"
    }
   },
   "outputs": [
    {
     "name": "stdout",
     "output_type": "stream",
     "text": [
      "     Parameter        Set 1        Set 2\n",
      "0   Unnamed: 0     1.000000   100.000000\n",
      "1          d_s     0.010000     0.010000\n",
      "2          s_s     1.350000     1.350000\n",
      "3          r_s  2650.000000  2650.000000\n",
      "4          q_s     0.010913     0.017068\n",
      "5          w_w     6.000000     6.000000\n",
      "6          a_w     0.007500     0.007500\n",
      "7          h_w     1.428695     1.161444\n",
      "8        f_min     5.000000     5.000000\n",
      "9        f_max    80.000000    80.000000\n",
      "10         r_0     6.000000     6.000000\n",
      "11         f_0     1.000000     1.000000\n",
      "12         q_0    10.000000    10.000000\n",
      "13         v_0   350.000000   350.000000\n",
      "14         p_0     0.550000     0.550000\n",
      "15         e_0     0.090000     0.090000\n",
      "16       n_0_a     0.600000     0.600000\n",
      "17       n_0_b     0.800000     0.800000\n"
     ]
    }
   ],
   "source": [
    "df = pd.read_csv('../R/output/R_fmi_par.csv')\n",
    "# Check the number of columns\n",
    "num_columns = df.shape[1]\n",
    "\n",
    "# Ensure there are at least 34 columns to create two sets of 17 columns\n",
    "if df.shape[1] >= 34:\n",
    "    # Select the first and second sets of 17 columns\n",
    "    set1 = df.iloc[:, :18]\n",
    "    set2 = df.iloc[:, 18:36]\n",
    "\n",
    "    # Create a list of parameters\n",
    "    parameters = set1.columns.tolist()\n",
    "\n",
    "    # Reshape the data\n",
    "    set1_reshaped = pd.DataFrame({'Parameter': parameters, 'Set 1': set1.iloc[0, :].values})\n",
    "    set2_reshaped = pd.DataFrame({'Parameter': parameters, 'Set 2': set2.iloc[0, :].values})\n",
    "\n",
    "    # Merge the reshaped data\n",
    "    combined_df = pd.merge(set1_reshaped, set2_reshaped, on='Parameter')\n",
    "\n",
    "    # Display the combined DataFrame\n",
    "    print(combined_df)\n",
    "else:\n",
    "    print(\"The CSV file does not have enough columns to create two sets of 17 columns each.\")"
   ]
  },
  {
   "cell_type": "markdown",
   "metadata": {},
   "source": [
    "\n",
    "\n",
    "### pyseis (Python)\n",
    "\n",
    "#### The parameters created with `fmi_parameters`"
   ]
  },
  {
   "cell_type": "code",
   "execution_count": 12,
   "metadata": {
    "execution": {
     "iopub.execute_input": "2024-08-09T13:24:34.520959Z",
     "iopub.status.busy": "2024-08-09T13:24:34.520959Z",
     "iopub.status.idle": "2024-08-09T13:24:34.534935Z",
     "shell.execute_reply": "2024-08-09T13:24:34.534935Z"
    }
   },
   "outputs": [
    {
     "data": {
      "text/html": [
       "<div>\n",
       "<style scoped>\n",
       "    .dataframe tbody tr th:only-of-type {\n",
       "        vertical-align: middle;\n",
       "    }\n",
       "\n",
       "    .dataframe tbody tr th {\n",
       "        vertical-align: top;\n",
       "    }\n",
       "\n",
       "    .dataframe thead th {\n",
       "        text-align: right;\n",
       "    }\n",
       "</style>\n",
       "<table border=\"1\" class=\"dataframe\">\n",
       "  <thead>\n",
       "    <tr style=\"text-align: right;\">\n",
       "      <th></th>\n",
       "      <th>Parameter</th>\n",
       "      <th>Set 1</th>\n",
       "      <th>Set 2</th>\n",
       "    </tr>\n",
       "  </thead>\n",
       "  <tbody>\n",
       "    <tr>\n",
       "      <th>0</th>\n",
       "      <td>p_0</td>\n",
       "      <td>0.550000</td>\n",
       "      <td>0.550000</td>\n",
       "    </tr>\n",
       "    <tr>\n",
       "      <th>1</th>\n",
       "      <td>r_s</td>\n",
       "      <td>2650.000000</td>\n",
       "      <td>2650.000000</td>\n",
       "    </tr>\n",
       "    <tr>\n",
       "      <th>2</th>\n",
       "      <td>f_min</td>\n",
       "      <td>5.000000</td>\n",
       "      <td>5.000000</td>\n",
       "    </tr>\n",
       "    <tr>\n",
       "      <th>3</th>\n",
       "      <td>a_w</td>\n",
       "      <td>0.007500</td>\n",
       "      <td>0.007500</td>\n",
       "    </tr>\n",
       "    <tr>\n",
       "      <th>4</th>\n",
       "      <td>r_0</td>\n",
       "      <td>6.000000</td>\n",
       "      <td>6.000000</td>\n",
       "    </tr>\n",
       "    <tr>\n",
       "      <th>5</th>\n",
       "      <td>q_0</td>\n",
       "      <td>10.000000</td>\n",
       "      <td>10.000000</td>\n",
       "    </tr>\n",
       "    <tr>\n",
       "      <th>6</th>\n",
       "      <td>f_max</td>\n",
       "      <td>80.000000</td>\n",
       "      <td>80.000000</td>\n",
       "    </tr>\n",
       "    <tr>\n",
       "      <th>7</th>\n",
       "      <td>n_0_a</td>\n",
       "      <td>0.600000</td>\n",
       "      <td>0.600000</td>\n",
       "    </tr>\n",
       "    <tr>\n",
       "      <th>8</th>\n",
       "      <td>res</td>\n",
       "      <td>100.000000</td>\n",
       "      <td>100.000000</td>\n",
       "    </tr>\n",
       "    <tr>\n",
       "      <th>9</th>\n",
       "      <td>q_s</td>\n",
       "      <td>0.015313</td>\n",
       "      <td>0.001643</td>\n",
       "    </tr>\n",
       "    <tr>\n",
       "      <th>10</th>\n",
       "      <td>v_0</td>\n",
       "      <td>350.000000</td>\n",
       "      <td>350.000000</td>\n",
       "    </tr>\n",
       "    <tr>\n",
       "      <th>11</th>\n",
       "      <td>s_s</td>\n",
       "      <td>1.350000</td>\n",
       "      <td>1.350000</td>\n",
       "    </tr>\n",
       "    <tr>\n",
       "      <th>12</th>\n",
       "      <td>e_0</td>\n",
       "      <td>0.090000</td>\n",
       "      <td>0.090000</td>\n",
       "    </tr>\n",
       "    <tr>\n",
       "      <th>13</th>\n",
       "      <td>h_w</td>\n",
       "      <td>0.462047</td>\n",
       "      <td>1.144737</td>\n",
       "    </tr>\n",
       "    <tr>\n",
       "      <th>14</th>\n",
       "      <td>w_w</td>\n",
       "      <td>6.000000</td>\n",
       "      <td>6.000000</td>\n",
       "    </tr>\n",
       "    <tr>\n",
       "      <th>15</th>\n",
       "      <td>d_s</td>\n",
       "      <td>0.010000</td>\n",
       "      <td>0.010000</td>\n",
       "    </tr>\n",
       "    <tr>\n",
       "      <th>16</th>\n",
       "      <td>f_0</td>\n",
       "      <td>1.000000</td>\n",
       "      <td>1.000000</td>\n",
       "    </tr>\n",
       "    <tr>\n",
       "      <th>17</th>\n",
       "      <td>n_0_b</td>\n",
       "      <td>0.800000</td>\n",
       "      <td>0.800000</td>\n",
       "    </tr>\n",
       "  </tbody>\n",
       "</table>\n",
       "</div>"
      ],
      "text/plain": [
       "   Parameter        Set 1        Set 2\n",
       "0        p_0     0.550000     0.550000\n",
       "1        r_s  2650.000000  2650.000000\n",
       "2      f_min     5.000000     5.000000\n",
       "3        a_w     0.007500     0.007500\n",
       "4        r_0     6.000000     6.000000\n",
       "5        q_0    10.000000    10.000000\n",
       "6      f_max    80.000000    80.000000\n",
       "7      n_0_a     0.600000     0.600000\n",
       "8        res   100.000000   100.000000\n",
       "9        q_s     0.015313     0.001643\n",
       "10       v_0   350.000000   350.000000\n",
       "11       s_s     1.350000     1.350000\n",
       "12       e_0     0.090000     0.090000\n",
       "13       h_w     0.462047     1.144737\n",
       "14       w_w     6.000000     6.000000\n",
       "15       d_s     0.010000     0.010000\n",
       "16       f_0     1.000000     1.000000\n",
       "17     n_0_b     0.800000     0.800000"
      ]
     },
     "execution_count": 12,
     "metadata": {},
     "output_type": "execute_result"
    }
   ],
   "source": [
    "pd.read_csv('../test/output/Py_fmi_par.csv')"
   ]
  },
  {
   "cell_type": "markdown",
   "metadata": {},
   "source": [
    "\n",
    "### eseis (R)\n",
    "\n"
   ]
  },
  {
   "cell_type": "markdown",
   "metadata": {},
   "source": [
    "#### One out of two spectrum data with the reference parameters by `fmi_spectra`"
   ]
  },
  {
   "cell_type": "code",
   "execution_count": 13,
   "metadata": {
    "execution": {
     "iopub.execute_input": "2024-08-09T13:24:34.534935Z",
     "iopub.status.busy": "2024-08-09T13:24:34.534935Z",
     "iopub.status.idle": "2024-08-09T13:24:34.555103Z",
     "shell.execute_reply": "2024-08-09T13:24:34.555103Z"
    }
   },
   "outputs": [
    {
     "data": {
      "text/html": [
       "<div>\n",
       "<style scoped>\n",
       "    .dataframe tbody tr th:only-of-type {\n",
       "        vertical-align: middle;\n",
       "    }\n",
       "\n",
       "    .dataframe tbody tr th {\n",
       "        vertical-align: top;\n",
       "    }\n",
       "\n",
       "    .dataframe thead th {\n",
       "        text-align: right;\n",
       "    }\n",
       "</style>\n",
       "<table border=\"1\" class=\"dataframe\">\n",
       "  <thead>\n",
       "    <tr style=\"text-align: right;\">\n",
       "      <th></th>\n",
       "      <th>Frequency</th>\n",
       "      <th>Power</th>\n",
       "    </tr>\n",
       "  </thead>\n",
       "  <tbody>\n",
       "    <tr>\n",
       "      <th>1</th>\n",
       "      <td>5.000000</td>\n",
       "      <td>-121.610950</td>\n",
       "    </tr>\n",
       "    <tr>\n",
       "      <th>2</th>\n",
       "      <td>5.757576</td>\n",
       "      <td>-120.252939</td>\n",
       "    </tr>\n",
       "    <tr>\n",
       "      <th>3</th>\n",
       "      <td>6.515152</td>\n",
       "      <td>-119.142000</td>\n",
       "    </tr>\n",
       "    <tr>\n",
       "      <th>4</th>\n",
       "      <td>7.272727</td>\n",
       "      <td>-118.219574</td>\n",
       "    </tr>\n",
       "    <tr>\n",
       "      <th>5</th>\n",
       "      <td>8.030303</td>\n",
       "      <td>-117.445588</td>\n",
       "    </tr>\n",
       "  </tbody>\n",
       "</table>\n",
       "</div>"
      ],
      "text/plain": [
       "   Frequency       Power\n",
       "1   5.000000 -121.610950\n",
       "2   5.757576 -120.252939\n",
       "3   6.515152 -119.142000\n",
       "4   7.272727 -118.219574\n",
       "5   8.030303 -117.445588"
      ]
     },
     "execution_count": 13,
     "metadata": {},
     "output_type": "execute_result"
    }
   ],
   "source": [
    "df = pd.read_csv('../R/output/R_fmi_spec.csv', sep=\" \")\n",
    "\n",
    "\n",
    "# Select the first and second sets of 17 columns\n",
    "frequency = df[\"frequency\"]\n",
    "power = df[\"power\"]\n",
    "\n",
    "# Merge the reshaped data\n",
    "combined_df = pd.DataFrame({'Frequency': frequency,'Power': power})\n",
    "\n",
    "# Display the combined DataFrame\n",
    "combined_df.head(5)"
   ]
  },
  {
   "cell_type": "markdown",
   "metadata": {},
   "source": [
    "### pyseis (Python)"
   ]
  },
  {
   "cell_type": "markdown",
   "metadata": {},
   "source": [
    "#### One out of two spectrum data with the reference parameters by `fmi_spectra`"
   ]
  },
  {
   "cell_type": "code",
   "execution_count": 14,
   "metadata": {
    "execution": {
     "iopub.execute_input": "2024-08-09T13:24:34.555103Z",
     "iopub.status.busy": "2024-08-09T13:24:34.555103Z",
     "iopub.status.idle": "2024-08-09T13:24:34.574928Z",
     "shell.execute_reply": "2024-08-09T13:24:34.574928Z"
    }
   },
   "outputs": [
    {
     "data": {
      "text/html": [
       "<div>\n",
       "<style scoped>\n",
       "    .dataframe tbody tr th:only-of-type {\n",
       "        vertical-align: middle;\n",
       "    }\n",
       "\n",
       "    .dataframe tbody tr th {\n",
       "        vertical-align: top;\n",
       "    }\n",
       "\n",
       "    .dataframe thead th {\n",
       "        text-align: right;\n",
       "    }\n",
       "</style>\n",
       "<table border=\"1\" class=\"dataframe\">\n",
       "  <thead>\n",
       "    <tr style=\"text-align: right;\">\n",
       "      <th></th>\n",
       "      <th>Frequency</th>\n",
       "      <th>Power</th>\n",
       "      <th>Turbulence</th>\n",
       "      <th>Bedload</th>\n",
       "    </tr>\n",
       "  </thead>\n",
       "  <tbody>\n",
       "    <tr>\n",
       "      <th>0</th>\n",
       "      <td>5.000000</td>\n",
       "      <td>-137.048033</td>\n",
       "      <td>-137.048033</td>\n",
       "      <td>-119.458741</td>\n",
       "    </tr>\n",
       "    <tr>\n",
       "      <th>1</th>\n",
       "      <td>5.757576</td>\n",
       "      <td>-135.830789</td>\n",
       "      <td>-135.830789</td>\n",
       "      <td>-116.457017</td>\n",
       "    </tr>\n",
       "    <tr>\n",
       "      <th>2</th>\n",
       "      <td>6.515152</td>\n",
       "      <td>-134.840460</td>\n",
       "      <td>-134.840460</td>\n",
       "      <td>-113.867303</td>\n",
       "    </tr>\n",
       "    <tr>\n",
       "      <th>3</th>\n",
       "      <td>7.272727</td>\n",
       "      <td>-134.023042</td>\n",
       "      <td>-134.023042</td>\n",
       "      <td>-111.597841</td>\n",
       "    </tr>\n",
       "    <tr>\n",
       "      <th>4</th>\n",
       "      <td>8.030303</td>\n",
       "      <td>-133.341693</td>\n",
       "      <td>-133.341693</td>\n",
       "      <td>-109.584459</td>\n",
       "    </tr>\n",
       "  </tbody>\n",
       "</table>\n",
       "</div>"
      ],
      "text/plain": [
       "   Frequency       Power  Turbulence     Bedload\n",
       "0   5.000000 -137.048033 -137.048033 -119.458741\n",
       "1   5.757576 -135.830789 -135.830789 -116.457017\n",
       "2   6.515152 -134.840460 -134.840460 -113.867303\n",
       "3   7.272727 -134.023042 -134.023042 -111.597841\n",
       "4   8.030303 -133.341693 -133.341693 -109.584459"
      ]
     },
     "execution_count": 14,
     "metadata": {},
     "output_type": "execute_result"
    }
   ],
   "source": [
    "pd.read_csv('../test/output/Py_fmi_ref_spectrum_1.csv').head(5)"
   ]
  },
  {
   "cell_type": "markdown",
   "metadata": {},
   "source": [
    "#### The plot of the spectrum data with the reference parameters by `fmi_spectra`\n",
    "![fmi_spectra_png](../test/output/Py_fmi_spectra.png)\n"
   ]
  },
  {
   "cell_type": "markdown",
   "metadata": {},
   "source": [
    "### eseis (R)"
   ]
  },
  {
   "cell_type": "markdown",
   "metadata": {},
   "source": [
    "#### The inversion plot from the `fmi_inversion`\n",
    "![fmi_spectra_png](../R/output/R_fmi_inversion0.png)\n",
    "![fmi_spectra_png](../R/output/R_fmi_inversion1.png)"
   ]
  },
  {
   "cell_type": "markdown",
   "metadata": {},
   "source": [
    "### pyseis (Python)"
   ]
  },
  {
   "cell_type": "markdown",
   "metadata": {},
   "source": [
    "\n",
    "#### The inversion plot from the `fmi_inversion`\n",
    "![fmi_spectra_png](../test/output/Py_fmi_inversion.png)"
   ]
  },
  {
   "cell_type": "markdown",
   "metadata": {},
   "source": [
    "***These are some automated analysis of example usage scenario of the same modules of these two packages.\n",
    "Overview of how these modules handles data and outputs differently.***"
   ]
  }
 ],
 "metadata": {
  "kernelspec": {
   "display_name": "Python 3",
   "language": "python",
   "name": "python3"
  },
  "language_info": {
   "codemirror_mode": {
    "name": "ipython",
    "version": 3
   },
   "file_extension": ".py",
   "mimetype": "text/x-python",
   "name": "python",
   "nbconvert_exporter": "python",
   "pygments_lexer": "ipython3",
   "version": "3.11.0"
  }
 },
 "nbformat": 4,
 "nbformat_minor": 4
}
