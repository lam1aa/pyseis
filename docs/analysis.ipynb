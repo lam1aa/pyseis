{
 "cells": [
  {
   "cell_type": "code",
   "execution_count": 1,
   "metadata": {
    "execution": {
     "iopub.execute_input": "2024-07-13T21:31:59.955818Z",
     "iopub.status.busy": "2024-07-13T21:31:59.955818Z",
     "iopub.status.idle": "2024-07-13T21:32:00.319153Z",
     "shell.execute_reply": "2024-07-13T21:32:00.319153Z"
    }
   },
   "outputs": [],
   "source": [
    "import pandas as pd\n",
    "import numpy as np"
   ]
  },
  {
   "cell_type": "markdown",
   "metadata": {},
   "source": [
    "# Comparison of Seismic Analysis Packages: eseis (R) vs pyseis (Python)\n",
    "\n",
    "This report provides a comprehensive comparison between 11 functions from two seismic analysis packages: eseis for R and pyseis for Python.\n",
    "Throught the comparison, same input data has been used to test all the modules but there are slight changes due to randomness of the process.\n",
    "\n",
    "\n",
    "## Functions for spatial data handling\n",
    "\n",
    "For station A,B and C we tested these following modules:\n",
    "- `spatial_convert`\n",
    "- `spatial_distance`\n",
    "- `spatial_amplitude`\n",
    "- `spatial_pmax`\n",
    "- `spatial_migrate`\n",
    "- `spatial_clip`\n",
    "  \n",
    "\n",
    "### eseis (R)\n",
    "\n",
    "\n",
    "\n",
    "### pyseis (Python)\n",
    "\n",
    "#### The original stations (WGS84 geographic coordinates)\n"
   ]
  },
  {
   "cell_type": "code",
   "execution_count": 2,
   "metadata": {
    "execution": {
     "iopub.execute_input": "2024-07-13T21:32:00.322438Z",
     "iopub.status.busy": "2024-07-13T21:32:00.321934Z",
     "iopub.status.idle": "2024-07-13T21:32:00.333232Z",
     "shell.execute_reply": "2024-07-13T21:32:00.333232Z"
    }
   },
   "outputs": [
    {
     "data": {
      "text/html": [
       "<div>\n",
       "<style scoped>\n",
       "    .dataframe tbody tr th:only-of-type {\n",
       "        vertical-align: middle;\n",
       "    }\n",
       "\n",
       "    .dataframe tbody tr th {\n",
       "        vertical-align: top;\n",
       "    }\n",
       "\n",
       "    .dataframe thead th {\n",
       "        text-align: right;\n",
       "    }\n",
       "</style>\n",
       "<table border=\"1\" class=\"dataframe\">\n",
       "  <thead>\n",
       "    <tr style=\"text-align: right;\">\n",
       "      <th></th>\n",
       "      <th>0</th>\n",
       "      <th>1</th>\n",
       "    </tr>\n",
       "  </thead>\n",
       "  <tbody>\n",
       "    <tr>\n",
       "      <th>0</th>\n",
       "      <td>25</td>\n",
       "      <td>25</td>\n",
       "    </tr>\n",
       "    <tr>\n",
       "      <th>1</th>\n",
       "      <td>75</td>\n",
       "      <td>75</td>\n",
       "    </tr>\n",
       "    <tr>\n",
       "      <th>2</th>\n",
       "      <td>50</td>\n",
       "      <td>90</td>\n",
       "    </tr>\n",
       "  </tbody>\n",
       "</table>\n",
       "</div>"
      ],
      "text/plain": [
       "    0   1\n",
       "0  25  25\n",
       "1  75  75\n",
       "2  50  90"
      ]
     },
     "execution_count": 2,
     "metadata": {},
     "output_type": "execute_result"
    }
   ],
   "source": [
    "pd.read_csv('../test/output/Py_original_stations.csv', header=None)"
   ]
  },
  {
   "cell_type": "markdown",
   "metadata": {},
   "source": [
    "#### The converted stations (UTM zone 32N) from `spatial_convert`"
   ]
  },
  {
   "cell_type": "code",
   "execution_count": 3,
   "metadata": {
    "execution": {
     "iopub.execute_input": "2024-07-13T21:32:00.360095Z",
     "iopub.status.busy": "2024-07-13T21:32:00.360095Z",
     "iopub.status.idle": "2024-07-13T21:32:00.370041Z",
     "shell.execute_reply": "2024-07-13T21:32:00.370041Z"
    }
   },
   "outputs": [
    {
     "data": {
      "text/html": [
       "<div>\n",
       "<style scoped>\n",
       "    .dataframe tbody tr th:only-of-type {\n",
       "        vertical-align: middle;\n",
       "    }\n",
       "\n",
       "    .dataframe tbody tr th {\n",
       "        vertical-align: top;\n",
       "    }\n",
       "\n",
       "    .dataframe thead th {\n",
       "        text-align: right;\n",
       "    }\n",
       "</style>\n",
       "<table border=\"1\" class=\"dataframe\">\n",
       "  <thead>\n",
       "    <tr style=\"text-align: right;\">\n",
       "      <th></th>\n",
       "      <th>0</th>\n",
       "      <th>1</th>\n",
       "    </tr>\n",
       "  </thead>\n",
       "  <tbody>\n",
       "    <tr>\n",
       "      <th>0</th>\n",
       "      <td>2.128199e+06</td>\n",
       "      <td>2.862733e+06</td>\n",
       "    </tr>\n",
       "    <tr>\n",
       "      <th>1</th>\n",
       "      <td>2.041350e+06</td>\n",
       "      <td>9.303692e+06</td>\n",
       "    </tr>\n",
       "    <tr>\n",
       "      <th>2</th>\n",
       "      <td>5.000000e+05</td>\n",
       "      <td>9.997965e+06</td>\n",
       "    </tr>\n",
       "  </tbody>\n",
       "</table>\n",
       "</div>"
      ],
      "text/plain": [
       "              0             1\n",
       "0  2.128199e+06  2.862733e+06\n",
       "1  2.041350e+06  9.303692e+06\n",
       "2  5.000000e+05  9.997965e+06"
      ]
     },
     "execution_count": 3,
     "metadata": {},
     "output_type": "execute_result"
    }
   ],
   "source": [
    "pd.read_csv('../test/output/Py_converted_stations.csv', header=None)"
   ]
  },
  {
   "cell_type": "markdown",
   "metadata": {},
   "source": [
    "#### The Digital Elevation Model with the stations from `spatial_distance`\n",
    "\n",
    "![image_from_sp_dist](../test/output/Py_spatial_dist_0.png)\n",
    "\n",
    "#### This Is the distance matrix of the stations\n"
   ]
  },
  {
   "cell_type": "code",
   "execution_count": 4,
   "metadata": {
    "execution": {
     "iopub.execute_input": "2024-07-13T21:32:00.371260Z",
     "iopub.status.busy": "2024-07-13T21:32:00.371260Z",
     "iopub.status.idle": "2024-07-13T21:32:00.391524Z",
     "shell.execute_reply": "2024-07-13T21:32:00.391524Z"
    }
   },
   "outputs": [
    {
     "data": {
      "text/html": [
       "<div>\n",
       "<style scoped>\n",
       "    .dataframe tbody tr th:only-of-type {\n",
       "        vertical-align: middle;\n",
       "    }\n",
       "\n",
       "    .dataframe tbody tr th {\n",
       "        vertical-align: top;\n",
       "    }\n",
       "\n",
       "    .dataframe thead th {\n",
       "        text-align: right;\n",
       "    }\n",
       "</style>\n",
       "<table border=\"1\" class=\"dataframe\">\n",
       "  <thead>\n",
       "    <tr style=\"text-align: right;\">\n",
       "      <th></th>\n",
       "      <th>A</th>\n",
       "      <th>B</th>\n",
       "      <th>C</th>\n",
       "    </tr>\n",
       "  </thead>\n",
       "  <tbody>\n",
       "    <tr>\n",
       "      <th>0</th>\n",
       "      <td>0.000000</td>\n",
       "      <td>172.113622</td>\n",
       "      <td>248.234182</td>\n",
       "    </tr>\n",
       "    <tr>\n",
       "      <th>1</th>\n",
       "      <td>172.113622</td>\n",
       "      <td>0.000000</td>\n",
       "      <td>116.268396</td>\n",
       "    </tr>\n",
       "    <tr>\n",
       "      <th>2</th>\n",
       "      <td>248.234182</td>\n",
       "      <td>116.268396</td>\n",
       "      <td>0.000000</td>\n",
       "    </tr>\n",
       "  </tbody>\n",
       "</table>\n",
       "</div>"
      ],
      "text/plain": [
       "            A           B           C\n",
       "0    0.000000  172.113622  248.234182\n",
       "1  172.113622    0.000000  116.268396\n",
       "2  248.234182  116.268396    0.000000"
      ]
     },
     "execution_count": 4,
     "metadata": {},
     "output_type": "execute_result"
    }
   ],
   "source": [
    "pd.read_csv('../test/output/distance_matrix.csv')"
   ]
  },
  {
   "cell_type": "markdown",
   "metadata": {},
   "source": [
    "\n",
    "#### The plot for distance matrix\n",
    "\n",
    "![image_from_sp_dist](../test/output/Py_spatial_dist_mat.png)\n"
   ]
  },
  {
   "cell_type": "markdown",
   "metadata": {},
   "source": [
    "\n",
    "#### The Most likely location for the signal amplitude from `spatial_amplitude` and `spatial_pmax`\n"
   ]
  },
  {
   "cell_type": "code",
   "execution_count": 5,
   "metadata": {
    "execution": {
     "iopub.execute_input": "2024-07-13T21:32:00.391524Z",
     "iopub.status.busy": "2024-07-13T21:32:00.391524Z",
     "iopub.status.idle": "2024-07-13T21:32:00.404375Z",
     "shell.execute_reply": "2024-07-13T21:32:00.404375Z"
    }
   },
   "outputs": [
    {
     "data": {
      "text/html": [
       "<div>\n",
       "<style scoped>\n",
       "    .dataframe tbody tr th:only-of-type {\n",
       "        vertical-align: middle;\n",
       "    }\n",
       "\n",
       "    .dataframe tbody tr th {\n",
       "        vertical-align: top;\n",
       "    }\n",
       "\n",
       "    .dataframe thead th {\n",
       "        text-align: right;\n",
       "    }\n",
       "</style>\n",
       "<table border=\"1\" class=\"dataframe\">\n",
       "  <thead>\n",
       "    <tr style=\"text-align: right;\">\n",
       "      <th></th>\n",
       "      <th>0</th>\n",
       "      <th>1</th>\n",
       "    </tr>\n",
       "  </thead>\n",
       "  <tbody>\n",
       "    <tr>\n",
       "      <th>0</th>\n",
       "      <td>0.5</td>\n",
       "      <td>9.5</td>\n",
       "    </tr>\n",
       "  </tbody>\n",
       "</table>\n",
       "</div>"
      ],
      "text/plain": [
       "     0    1\n",
       "0  0.5  9.5"
      ]
     },
     "execution_count": 5,
     "metadata": {},
     "output_type": "execute_result"
    }
   ],
   "source": [
    "pd.read_csv('../test/output/Py_pmax.csv', header=None)"
   ]
  },
  {
   "cell_type": "markdown",
   "metadata": {},
   "source": [
    "\n",
    "#### The plot for the most likely signal\n",
    "\n",
    "![image_from_sp_dist](../test/output/Py_spatial_amp.png)\n"
   ]
  },
  {
   "cell_type": "markdown",
   "metadata": {},
   "source": [
    "\n",
    "#### The migrated result from `spatial_migrate`\n",
    "\n",
    "![image_from_sp_dist](../test/output/Py_spatial_migration.png)\n"
   ]
  },
  {
   "cell_type": "code",
   "execution_count": 6,
   "metadata": {
    "execution": {
     "iopub.execute_input": "2024-07-13T21:32:00.405674Z",
     "iopub.status.busy": "2024-07-13T21:32:00.405674Z",
     "iopub.status.idle": "2024-07-13T21:32:00.422486Z",
     "shell.execute_reply": "2024-07-13T21:32:00.422486Z"
    }
   },
   "outputs": [
    {
     "name": "stdout",
     "output_type": "stream",
     "text": [
      "\n",
      "Migrated data summary:\n",
      "Min value: 0.5570537462372878\n",
      "Max value: 0.9999790161751272\n",
      "Mean value: 0.9014908291878432\n"
     ]
    }
   ],
   "source": [
    "migrated_data = pd.read_csv('../test/output/Py_spatial_migrated_data.csv', header=None)\n",
    "# Print summary statistics of the migrated result\n",
    "print(\"\\nMigrated data summary:\")\n",
    "print(f\"Min value: {np.min(migrated_data)}\")\n",
    "print(f\"Max value: {np.max(migrated_data)}\")\n",
    "print(f\"Mean value: {np.mean(migrated_data)}\")"
   ]
  },
  {
   "cell_type": "markdown",
   "metadata": {},
   "source": [
    "\n",
    "#### The clipped result from `spatial_clip`\n",
    "\n",
    "![image_from_sp_dist](../test/output/Py_spatial_clipped.png)\n",
    "\n"
   ]
  },
  {
   "cell_type": "code",
   "execution_count": 7,
   "metadata": {
    "execution": {
     "iopub.execute_input": "2024-07-13T21:32:00.423695Z",
     "iopub.status.busy": "2024-07-13T21:32:00.423695Z",
     "iopub.status.idle": "2024-07-13T21:32:00.438751Z",
     "shell.execute_reply": "2024-07-13T21:32:00.438751Z"
    }
   },
   "outputs": [
    {
     "name": "stdout",
     "output_type": "stream",
     "text": [
      "\n",
      "Clipped migrated data summary:\n",
      "Min value: 0.0\n",
      "Max value: 1.0\n",
      "Mean value: 0.5437673225865496\n"
     ]
    }
   ],
   "source": [
    "clipped_data = pd.read_csv('../test/output/Py_spatial_clipped_data.csv')\n",
    "# Print summary statistics of the clipped result\n",
    "print(\"\\nClipped migrated data summary:\")\n",
    "print(f\"Min value: {np.nanmin(clipped_data)}\")\n",
    "print(f\"Max value: {np.nanmax(clipped_data)}\")\n",
    "print(f\"Mean value: {np.nanmean(clipped_data)}\")"
   ]
  },
  {
   "cell_type": "markdown",
   "metadata": {},
   "source": [
    "## Functions for Fluival data handling\n",
    "\n",
    "We tested these following modules:\n",
    "- `fmi_parameters`\n",
    "- `fmi_spectra`\n",
    "- `fmi_inversion`\n",
    "- `model_bedload`\n",
    "- `model_turbulance`\n",
    "  \n",
    "\n",
    "### eseis (R)\n",
    "\n",
    "\n",
    "\n",
    "### pyseis (Python)\n",
    "\n",
    "#### The parameters created with `fmi_parameters`"
   ]
  },
  {
   "cell_type": "code",
   "execution_count": 8,
   "metadata": {
    "execution": {
     "iopub.execute_input": "2024-07-13T21:32:00.440359Z",
     "iopub.status.busy": "2024-07-13T21:32:00.440359Z",
     "iopub.status.idle": "2024-07-13T21:32:00.453023Z",
     "shell.execute_reply": "2024-07-13T21:32:00.453023Z"
    }
   },
   "outputs": [
    {
     "data": {
      "text/html": [
       "<div>\n",
       "<style scoped>\n",
       "    .dataframe tbody tr th:only-of-type {\n",
       "        vertical-align: middle;\n",
       "    }\n",
       "\n",
       "    .dataframe tbody tr th {\n",
       "        vertical-align: top;\n",
       "    }\n",
       "\n",
       "    .dataframe thead th {\n",
       "        text-align: right;\n",
       "    }\n",
       "</style>\n",
       "<table border=\"1\" class=\"dataframe\">\n",
       "  <thead>\n",
       "    <tr style=\"text-align: right;\">\n",
       "      <th></th>\n",
       "      <th>Parameter</th>\n",
       "      <th>Set 1</th>\n",
       "      <th>Set 2</th>\n",
       "    </tr>\n",
       "  </thead>\n",
       "  <tbody>\n",
       "    <tr>\n",
       "      <th>0</th>\n",
       "      <td>w_w</td>\n",
       "      <td>6.000000</td>\n",
       "      <td>6.000000</td>\n",
       "    </tr>\n",
       "    <tr>\n",
       "      <th>1</th>\n",
       "      <td>res</td>\n",
       "      <td>100.000000</td>\n",
       "      <td>100.000000</td>\n",
       "    </tr>\n",
       "    <tr>\n",
       "      <th>2</th>\n",
       "      <td>f_min</td>\n",
       "      <td>5.000000</td>\n",
       "      <td>5.000000</td>\n",
       "    </tr>\n",
       "    <tr>\n",
       "      <th>3</th>\n",
       "      <td>n_0_a</td>\n",
       "      <td>0.600000</td>\n",
       "      <td>0.600000</td>\n",
       "    </tr>\n",
       "    <tr>\n",
       "      <th>4</th>\n",
       "      <td>d_s</td>\n",
       "      <td>0.010000</td>\n",
       "      <td>0.010000</td>\n",
       "    </tr>\n",
       "    <tr>\n",
       "      <th>5</th>\n",
       "      <td>f_max</td>\n",
       "      <td>80.000000</td>\n",
       "      <td>80.000000</td>\n",
       "    </tr>\n",
       "    <tr>\n",
       "      <th>6</th>\n",
       "      <td>r_0</td>\n",
       "      <td>6.000000</td>\n",
       "      <td>6.000000</td>\n",
       "    </tr>\n",
       "    <tr>\n",
       "      <th>7</th>\n",
       "      <td>f_0</td>\n",
       "      <td>1.000000</td>\n",
       "      <td>1.000000</td>\n",
       "    </tr>\n",
       "    <tr>\n",
       "      <th>8</th>\n",
       "      <td>e_0</td>\n",
       "      <td>0.090000</td>\n",
       "      <td>0.090000</td>\n",
       "    </tr>\n",
       "    <tr>\n",
       "      <th>9</th>\n",
       "      <td>n_0_b</td>\n",
       "      <td>0.800000</td>\n",
       "      <td>0.800000</td>\n",
       "    </tr>\n",
       "    <tr>\n",
       "      <th>10</th>\n",
       "      <td>r_s</td>\n",
       "      <td>2650.000000</td>\n",
       "      <td>2650.000000</td>\n",
       "    </tr>\n",
       "    <tr>\n",
       "      <th>11</th>\n",
       "      <td>s_s</td>\n",
       "      <td>1.350000</td>\n",
       "      <td>1.350000</td>\n",
       "    </tr>\n",
       "    <tr>\n",
       "      <th>12</th>\n",
       "      <td>q_0</td>\n",
       "      <td>10.000000</td>\n",
       "      <td>10.000000</td>\n",
       "    </tr>\n",
       "    <tr>\n",
       "      <th>13</th>\n",
       "      <td>p_0</td>\n",
       "      <td>0.550000</td>\n",
       "      <td>0.550000</td>\n",
       "    </tr>\n",
       "    <tr>\n",
       "      <th>14</th>\n",
       "      <td>h_w</td>\n",
       "      <td>0.658106</td>\n",
       "      <td>0.812361</td>\n",
       "    </tr>\n",
       "    <tr>\n",
       "      <th>15</th>\n",
       "      <td>a_w</td>\n",
       "      <td>0.007500</td>\n",
       "      <td>0.007500</td>\n",
       "    </tr>\n",
       "    <tr>\n",
       "      <th>16</th>\n",
       "      <td>v_0</td>\n",
       "      <td>350.000000</td>\n",
       "      <td>350.000000</td>\n",
       "    </tr>\n",
       "    <tr>\n",
       "      <th>17</th>\n",
       "      <td>q_s</td>\n",
       "      <td>0.005049</td>\n",
       "      <td>0.003171</td>\n",
       "    </tr>\n",
       "  </tbody>\n",
       "</table>\n",
       "</div>"
      ],
      "text/plain": [
       "   Parameter        Set 1        Set 2\n",
       "0        w_w     6.000000     6.000000\n",
       "1        res   100.000000   100.000000\n",
       "2      f_min     5.000000     5.000000\n",
       "3      n_0_a     0.600000     0.600000\n",
       "4        d_s     0.010000     0.010000\n",
       "5      f_max    80.000000    80.000000\n",
       "6        r_0     6.000000     6.000000\n",
       "7        f_0     1.000000     1.000000\n",
       "8        e_0     0.090000     0.090000\n",
       "9      n_0_b     0.800000     0.800000\n",
       "10       r_s  2650.000000  2650.000000\n",
       "11       s_s     1.350000     1.350000\n",
       "12       q_0    10.000000    10.000000\n",
       "13       p_0     0.550000     0.550000\n",
       "14       h_w     0.658106     0.812361\n",
       "15       a_w     0.007500     0.007500\n",
       "16       v_0   350.000000   350.000000\n",
       "17       q_s     0.005049     0.003171"
      ]
     },
     "execution_count": 8,
     "metadata": {},
     "output_type": "execute_result"
    }
   ],
   "source": [
    "pd.read_csv('../test/output/Py_fmi_par.csv')"
   ]
  },
  {
   "cell_type": "markdown",
   "metadata": {},
   "source": [
    "#### One out of two spectrum data with the reference parameters by `fmi_spectra`"
   ]
  },
  {
   "cell_type": "code",
   "execution_count": 9,
   "metadata": {
    "execution": {
     "iopub.execute_input": "2024-07-13T21:32:00.455600Z",
     "iopub.status.busy": "2024-07-13T21:32:00.455600Z",
     "iopub.status.idle": "2024-07-13T21:32:00.468380Z",
     "shell.execute_reply": "2024-07-13T21:32:00.468380Z"
    }
   },
   "outputs": [
    {
     "data": {
      "text/html": [
       "<div>\n",
       "<style scoped>\n",
       "    .dataframe tbody tr th:only-of-type {\n",
       "        vertical-align: middle;\n",
       "    }\n",
       "\n",
       "    .dataframe tbody tr th {\n",
       "        vertical-align: top;\n",
       "    }\n",
       "\n",
       "    .dataframe thead th {\n",
       "        text-align: right;\n",
       "    }\n",
       "</style>\n",
       "<table border=\"1\" class=\"dataframe\">\n",
       "  <thead>\n",
       "    <tr style=\"text-align: right;\">\n",
       "      <th></th>\n",
       "      <th>Frequency</th>\n",
       "      <th>Power</th>\n",
       "      <th>Turbulence</th>\n",
       "      <th>Bedload</th>\n",
       "    </tr>\n",
       "  </thead>\n",
       "  <tbody>\n",
       "    <tr>\n",
       "      <th>0</th>\n",
       "      <td>5.000000</td>\n",
       "      <td>-132.083906</td>\n",
       "      <td>-132.083906</td>\n",
       "      <td>-125.547334</td>\n",
       "    </tr>\n",
       "    <tr>\n",
       "      <th>1</th>\n",
       "      <td>5.757576</td>\n",
       "      <td>-130.823657</td>\n",
       "      <td>-130.823657</td>\n",
       "      <td>-122.545610</td>\n",
       "    </tr>\n",
       "    <tr>\n",
       "      <th>2</th>\n",
       "      <td>6.515152</td>\n",
       "      <td>-129.796628</td>\n",
       "      <td>-129.796628</td>\n",
       "      <td>-119.955896</td>\n",
       "    </tr>\n",
       "    <tr>\n",
       "      <th>3</th>\n",
       "      <td>7.272727</td>\n",
       "      <td>-128.947345</td>\n",
       "      <td>-128.947345</td>\n",
       "      <td>-117.686433</td>\n",
       "    </tr>\n",
       "    <tr>\n",
       "      <th>4</th>\n",
       "      <td>8.030303</td>\n",
       "      <td>-128.237938</td>\n",
       "      <td>-128.237938</td>\n",
       "      <td>-115.673052</td>\n",
       "    </tr>\n",
       "  </tbody>\n",
       "</table>\n",
       "</div>"
      ],
      "text/plain": [
       "   Frequency       Power  Turbulence     Bedload\n",
       "0   5.000000 -132.083906 -132.083906 -125.547334\n",
       "1   5.757576 -130.823657 -130.823657 -122.545610\n",
       "2   6.515152 -129.796628 -129.796628 -119.955896\n",
       "3   7.272727 -128.947345 -128.947345 -117.686433\n",
       "4   8.030303 -128.237938 -128.237938 -115.673052"
      ]
     },
     "execution_count": 9,
     "metadata": {},
     "output_type": "execute_result"
    }
   ],
   "source": [
    "pd.read_csv('../test/output/Py_fmi_ref_spectrum_1.csv').head(5)"
   ]
  },
  {
   "cell_type": "markdown",
   "metadata": {},
   "source": [
    "#### The plot of the spectrum data with the reference parameters by `fmi_spectra`\n",
    "![fmi_spectra_png](../test/output/Py_fmi_spectra.png)\n",
    "\n",
    "#### The inversion plot from the `fmi_inversion`\n",
    "![fmi_spectra_png](../test/output/Py_fmi_inversion.png)"
   ]
  }
 ],
 "metadata": {
  "kernelspec": {
   "display_name": "Python 3",
   "language": "python",
   "name": "python3"
  },
  "language_info": {
   "codemirror_mode": {
    "name": "ipython",
    "version": 3
   },
   "file_extension": ".py",
   "mimetype": "text/x-python",
   "name": "python",
   "nbconvert_exporter": "python",
   "pygments_lexer": "ipython3",
   "version": "3.11.0"
  }
 },
 "nbformat": 4,
 "nbformat_minor": 4
}
