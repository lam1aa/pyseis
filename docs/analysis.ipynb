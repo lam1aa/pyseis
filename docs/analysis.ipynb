{
 "cells": [
  {
   "cell_type": "code",
   "execution_count": 36,
   "metadata": {},
   "outputs": [],
   "source": [
    "import pandas as pd\n",
    "import numpy as np"
   ]
  },
  {
   "cell_type": "markdown",
   "metadata": {},
   "source": [
    "# Comparison of Seismic Analysis Packages: eseis (R) vs pyseis (Python)\n",
    "\n",
    "This report provides a comprehensive comparison between 11 functions from two seismic analysis packages: eseis for R and pyseis for Python.\n",
    "Throught the comparison, same input data has been used to test all the modules but there are slight changes due to randomness of the process.\n",
    "\n",
    "\n",
    "## Functions for spatial data handling\n",
    "\n",
    "For station A,B and C we tested these following modules:\n",
    "- `spatial_convert`\n",
    "- `spatial_distance`\n",
    "- `spatial_amplitude`\n",
    "- `spatial_pmax`\n",
    "- `spatial_migrate`\n",
    "- `spatial_clip`\n",
    "  \n",
    "\n",
    "### eseis (R)\n",
    "\n",
    "\n",
    "\n",
    "### pyseis (Python)\n",
    "\n",
    "#### The original stations (WGS84 geographic coordinates)\n"
   ]
  },
  {
   "cell_type": "code",
   "execution_count": 25,
   "metadata": {},
   "outputs": [
    {
     "data": {
      "text/html": [
       "<div>\n",
       "<style scoped>\n",
       "    .dataframe tbody tr th:only-of-type {\n",
       "        vertical-align: middle;\n",
       "    }\n",
       "\n",
       "    .dataframe tbody tr th {\n",
       "        vertical-align: top;\n",
       "    }\n",
       "\n",
       "    .dataframe thead th {\n",
       "        text-align: right;\n",
       "    }\n",
       "</style>\n",
       "<table border=\"1\" class=\"dataframe\">\n",
       "  <thead>\n",
       "    <tr style=\"text-align: right;\">\n",
       "      <th></th>\n",
       "      <th>0</th>\n",
       "      <th>1</th>\n",
       "    </tr>\n",
       "  </thead>\n",
       "  <tbody>\n",
       "    <tr>\n",
       "      <th>0</th>\n",
       "      <td>25</td>\n",
       "      <td>25</td>\n",
       "    </tr>\n",
       "    <tr>\n",
       "      <th>1</th>\n",
       "      <td>75</td>\n",
       "      <td>75</td>\n",
       "    </tr>\n",
       "    <tr>\n",
       "      <th>2</th>\n",
       "      <td>50</td>\n",
       "      <td>90</td>\n",
       "    </tr>\n",
       "  </tbody>\n",
       "</table>\n",
       "</div>"
      ],
      "text/plain": [
       "    0   1\n",
       "0  25  25\n",
       "1  75  75\n",
       "2  50  90"
      ]
     },
     "execution_count": 25,
     "metadata": {},
     "output_type": "execute_result"
    }
   ],
   "source": [
    "pd.read_csv('../test/output/Py_original_stations.csv', header=None)"
   ]
  },
  {
   "cell_type": "markdown",
   "metadata": {},
   "source": [
    "#### The converted stations (UTM zone 32N) from `spatial_convert`"
   ]
  },
  {
   "cell_type": "code",
   "execution_count": 27,
   "metadata": {},
   "outputs": [
    {
     "data": {
      "text/html": [
       "<div>\n",
       "<style scoped>\n",
       "    .dataframe tbody tr th:only-of-type {\n",
       "        vertical-align: middle;\n",
       "    }\n",
       "\n",
       "    .dataframe tbody tr th {\n",
       "        vertical-align: top;\n",
       "    }\n",
       "\n",
       "    .dataframe thead th {\n",
       "        text-align: right;\n",
       "    }\n",
       "</style>\n",
       "<table border=\"1\" class=\"dataframe\">\n",
       "  <thead>\n",
       "    <tr style=\"text-align: right;\">\n",
       "      <th></th>\n",
       "      <th>0</th>\n",
       "      <th>1</th>\n",
       "    </tr>\n",
       "  </thead>\n",
       "  <tbody>\n",
       "    <tr>\n",
       "      <th>0</th>\n",
       "      <td>2.128199e+06</td>\n",
       "      <td>2.862733e+06</td>\n",
       "    </tr>\n",
       "    <tr>\n",
       "      <th>1</th>\n",
       "      <td>2.041350e+06</td>\n",
       "      <td>9.303692e+06</td>\n",
       "    </tr>\n",
       "    <tr>\n",
       "      <th>2</th>\n",
       "      <td>5.000000e+05</td>\n",
       "      <td>9.997965e+06</td>\n",
       "    </tr>\n",
       "  </tbody>\n",
       "</table>\n",
       "</div>"
      ],
      "text/plain": [
       "              0             1\n",
       "0  2.128199e+06  2.862733e+06\n",
       "1  2.041350e+06  9.303692e+06\n",
       "2  5.000000e+05  9.997965e+06"
      ]
     },
     "execution_count": 27,
     "metadata": {},
     "output_type": "execute_result"
    }
   ],
   "source": [
    "pd.read_csv('../test/output/Py_converted_stations.csv', header=None)"
   ]
  },
  {
   "cell_type": "markdown",
   "metadata": {},
   "source": [
    "#### The Digital Elevation Model with the stations from `spatial_distance`\n",
    "\n",
    "![image_from_sp_dist](../test/output/Py_spatial_dist_0.png)\n",
    "\n",
    "#### This Is the distance matrix of the stations\n"
   ]
  },
  {
   "cell_type": "code",
   "execution_count": 28,
   "metadata": {},
   "outputs": [
    {
     "data": {
      "text/html": [
       "<div>\n",
       "<style scoped>\n",
       "    .dataframe tbody tr th:only-of-type {\n",
       "        vertical-align: middle;\n",
       "    }\n",
       "\n",
       "    .dataframe tbody tr th {\n",
       "        vertical-align: top;\n",
       "    }\n",
       "\n",
       "    .dataframe thead th {\n",
       "        text-align: right;\n",
       "    }\n",
       "</style>\n",
       "<table border=\"1\" class=\"dataframe\">\n",
       "  <thead>\n",
       "    <tr style=\"text-align: right;\">\n",
       "      <th></th>\n",
       "      <th>A</th>\n",
       "      <th>B</th>\n",
       "      <th>C</th>\n",
       "    </tr>\n",
       "  </thead>\n",
       "  <tbody>\n",
       "    <tr>\n",
       "      <th>0</th>\n",
       "      <td>0.000000</td>\n",
       "      <td>164.637434</td>\n",
       "      <td>246.261699</td>\n",
       "    </tr>\n",
       "    <tr>\n",
       "      <th>1</th>\n",
       "      <td>164.637434</td>\n",
       "      <td>0.000000</td>\n",
       "      <td>115.989045</td>\n",
       "    </tr>\n",
       "    <tr>\n",
       "      <th>2</th>\n",
       "      <td>246.261699</td>\n",
       "      <td>115.989045</td>\n",
       "      <td>0.000000</td>\n",
       "    </tr>\n",
       "  </tbody>\n",
       "</table>\n",
       "</div>"
      ],
      "text/plain": [
       "            A           B           C\n",
       "0    0.000000  164.637434  246.261699\n",
       "1  164.637434    0.000000  115.989045\n",
       "2  246.261699  115.989045    0.000000"
      ]
     },
     "execution_count": 28,
     "metadata": {},
     "output_type": "execute_result"
    }
   ],
   "source": [
    "pd.read_csv('../test/output/distance_matrix.csv')"
   ]
  },
  {
   "cell_type": "markdown",
   "metadata": {},
   "source": [
    "\n",
    "#### The plot for distance matrix\n",
    "\n",
    "![image_from_sp_dist](../test/output/Py_spatial_dist_mat.png)\n"
   ]
  },
  {
   "cell_type": "markdown",
   "metadata": {},
   "source": [
    "\n",
    "#### The Most likely location for the signal amplitude from `spatial_amplitude` and `spatial_pmax`\n"
   ]
  },
  {
   "cell_type": "code",
   "execution_count": 29,
   "metadata": {},
   "outputs": [
    {
     "data": {
      "text/html": [
       "<div>\n",
       "<style scoped>\n",
       "    .dataframe tbody tr th:only-of-type {\n",
       "        vertical-align: middle;\n",
       "    }\n",
       "\n",
       "    .dataframe tbody tr th {\n",
       "        vertical-align: top;\n",
       "    }\n",
       "\n",
       "    .dataframe thead th {\n",
       "        text-align: right;\n",
       "    }\n",
       "</style>\n",
       "<table border=\"1\" class=\"dataframe\">\n",
       "  <thead>\n",
       "    <tr style=\"text-align: right;\">\n",
       "      <th></th>\n",
       "      <th>0</th>\n",
       "      <th>1</th>\n",
       "    </tr>\n",
       "  </thead>\n",
       "  <tbody>\n",
       "    <tr>\n",
       "      <th>0</th>\n",
       "      <td>0.5</td>\n",
       "      <td>34.5</td>\n",
       "    </tr>\n",
       "  </tbody>\n",
       "</table>\n",
       "</div>"
      ],
      "text/plain": [
       "     0     1\n",
       "0  0.5  34.5"
      ]
     },
     "execution_count": 29,
     "metadata": {},
     "output_type": "execute_result"
    }
   ],
   "source": [
    "pd.read_csv('../test/output/Py_pmax.csv', header=None)"
   ]
  },
  {
   "cell_type": "markdown",
   "metadata": {},
   "source": [
    "\n",
    "#### The plot for the most likely signal\n",
    "\n",
    "![image_from_sp_dist](../test/output/Py_spatial_amp.png)\n"
   ]
  },
  {
   "cell_type": "markdown",
   "metadata": {},
   "source": [
    "\n",
    "#### The migrated result from `spatial_migrate`\n",
    "\n",
    "![image_from_sp_dist](../test/output/Py_spatial_migration.png)\n"
   ]
  },
  {
   "cell_type": "code",
   "execution_count": 30,
   "metadata": {},
   "outputs": [
    {
     "name": "stdout",
     "output_type": "stream",
     "text": [
      "\n",
      "Migrated data summary:\n",
      "Min value: 0.5539139275584418\n",
      "Max value: 0.9995955419905432\n",
      "Mean value: 0.8969944733909557\n"
     ]
    }
   ],
   "source": [
    "migrated_data = pd.read_csv('../test/output/Py_spatial_migrated_data.csv', header=None)\n",
    "# Print summary statistics of the migrated result\n",
    "print(\"\\nMigrated data summary:\")\n",
    "print(f\"Min value: {np.min(migrated_data)}\")\n",
    "print(f\"Max value: {np.max(migrated_data)}\")\n",
    "print(f\"Mean value: {np.mean(migrated_data)}\")"
   ]
  },
  {
   "cell_type": "markdown",
   "metadata": {},
   "source": [
    "\n",
    "#### The clipped result from `spatial_clip`\n",
    "\n",
    "![image_from_sp_dist](../test/output/Py_spatial_clipped.png)\n",
    "\n"
   ]
  },
  {
   "cell_type": "code",
   "execution_count": 31,
   "metadata": {},
   "outputs": [
    {
     "name": "stdout",
     "output_type": "stream",
     "text": [
      "\n",
      "Clipped migrated data summary:\n",
      "Min value: 0.0351247282927492\n",
      "Max value: 1.0\n",
      "Mean value: 0.5510691491771843\n"
     ]
    }
   ],
   "source": [
    "clipped_data = pd.read_csv('../test/output/Py_spatial_clipped_data.csv')\n",
    "# Print summary statistics of the clipped result\n",
    "print(\"\\nClipped migrated data summary:\")\n",
    "print(f\"Min value: {np.nanmin(clipped_data)}\")\n",
    "print(f\"Max value: {np.nanmax(clipped_data)}\")\n",
    "print(f\"Mean value: {np.nanmean(clipped_data)}\")"
   ]
  },
  {
   "cell_type": "markdown",
   "metadata": {},
   "source": [
    "## Functions for Fluival data handling\n",
    "\n",
    "We tested these following modules:\n",
    "- `fmi_parameters`\n",
    "- `fmi_spectra`\n",
    "- `fmi_inversion`\n",
    "- `model_bedload`\n",
    "- `model_turbulance`\n",
    "  \n",
    "\n",
    "### eseis (R)\n",
    "\n",
    "\n",
    "\n",
    "### pyseis (Python)\n",
    "\n",
    "#### The parameters created with `fmi_parameters`"
   ]
  },
  {
   "cell_type": "code",
   "execution_count": 32,
   "metadata": {},
   "outputs": [
    {
     "data": {
      "text/html": [
       "<div>\n",
       "<style scoped>\n",
       "    .dataframe tbody tr th:only-of-type {\n",
       "        vertical-align: middle;\n",
       "    }\n",
       "\n",
       "    .dataframe tbody tr th {\n",
       "        vertical-align: top;\n",
       "    }\n",
       "\n",
       "    .dataframe thead th {\n",
       "        text-align: right;\n",
       "    }\n",
       "</style>\n",
       "<table border=\"1\" class=\"dataframe\">\n",
       "  <thead>\n",
       "    <tr style=\"text-align: right;\">\n",
       "      <th></th>\n",
       "      <th>Parameter</th>\n",
       "      <th>Set 1</th>\n",
       "      <th>Set 2</th>\n",
       "    </tr>\n",
       "  </thead>\n",
       "  <tbody>\n",
       "    <tr>\n",
       "      <th>0</th>\n",
       "      <td>w_w</td>\n",
       "      <td>6.000000</td>\n",
       "      <td>6.000000</td>\n",
       "    </tr>\n",
       "    <tr>\n",
       "      <th>1</th>\n",
       "      <td>q_s</td>\n",
       "      <td>0.005531</td>\n",
       "      <td>0.006542</td>\n",
       "    </tr>\n",
       "    <tr>\n",
       "      <th>2</th>\n",
       "      <td>n_0_a</td>\n",
       "      <td>0.600000</td>\n",
       "      <td>0.600000</td>\n",
       "    </tr>\n",
       "    <tr>\n",
       "      <th>3</th>\n",
       "      <td>a_w</td>\n",
       "      <td>0.007500</td>\n",
       "      <td>0.007500</td>\n",
       "    </tr>\n",
       "    <tr>\n",
       "      <th>4</th>\n",
       "      <td>f_0</td>\n",
       "      <td>1.000000</td>\n",
       "      <td>1.000000</td>\n",
       "    </tr>\n",
       "    <tr>\n",
       "      <th>5</th>\n",
       "      <td>q_0</td>\n",
       "      <td>10.000000</td>\n",
       "      <td>10.000000</td>\n",
       "    </tr>\n",
       "    <tr>\n",
       "      <th>6</th>\n",
       "      <td>v_0</td>\n",
       "      <td>350.000000</td>\n",
       "      <td>350.000000</td>\n",
       "    </tr>\n",
       "    <tr>\n",
       "      <th>7</th>\n",
       "      <td>f_min</td>\n",
       "      <td>5.000000</td>\n",
       "      <td>5.000000</td>\n",
       "    </tr>\n",
       "    <tr>\n",
       "      <th>8</th>\n",
       "      <td>s_s</td>\n",
       "      <td>1.350000</td>\n",
       "      <td>1.350000</td>\n",
       "    </tr>\n",
       "    <tr>\n",
       "      <th>9</th>\n",
       "      <td>h_w</td>\n",
       "      <td>1.758394</td>\n",
       "      <td>0.288903</td>\n",
       "    </tr>\n",
       "    <tr>\n",
       "      <th>10</th>\n",
       "      <td>r_s</td>\n",
       "      <td>2650.000000</td>\n",
       "      <td>2650.000000</td>\n",
       "    </tr>\n",
       "    <tr>\n",
       "      <th>11</th>\n",
       "      <td>res</td>\n",
       "      <td>100.000000</td>\n",
       "      <td>100.000000</td>\n",
       "    </tr>\n",
       "    <tr>\n",
       "      <th>12</th>\n",
       "      <td>p_0</td>\n",
       "      <td>0.550000</td>\n",
       "      <td>0.550000</td>\n",
       "    </tr>\n",
       "    <tr>\n",
       "      <th>13</th>\n",
       "      <td>e_0</td>\n",
       "      <td>0.090000</td>\n",
       "      <td>0.090000</td>\n",
       "    </tr>\n",
       "    <tr>\n",
       "      <th>14</th>\n",
       "      <td>d_s</td>\n",
       "      <td>0.010000</td>\n",
       "      <td>0.010000</td>\n",
       "    </tr>\n",
       "    <tr>\n",
       "      <th>15</th>\n",
       "      <td>n_0_b</td>\n",
       "      <td>0.800000</td>\n",
       "      <td>0.800000</td>\n",
       "    </tr>\n",
       "    <tr>\n",
       "      <th>16</th>\n",
       "      <td>f_max</td>\n",
       "      <td>80.000000</td>\n",
       "      <td>80.000000</td>\n",
       "    </tr>\n",
       "    <tr>\n",
       "      <th>17</th>\n",
       "      <td>r_0</td>\n",
       "      <td>6.000000</td>\n",
       "      <td>6.000000</td>\n",
       "    </tr>\n",
       "  </tbody>\n",
       "</table>\n",
       "</div>"
      ],
      "text/plain": [
       "   Parameter        Set 1        Set 2\n",
       "0        w_w     6.000000     6.000000\n",
       "1        q_s     0.005531     0.006542\n",
       "2      n_0_a     0.600000     0.600000\n",
       "3        a_w     0.007500     0.007500\n",
       "4        f_0     1.000000     1.000000\n",
       "5        q_0    10.000000    10.000000\n",
       "6        v_0   350.000000   350.000000\n",
       "7      f_min     5.000000     5.000000\n",
       "8        s_s     1.350000     1.350000\n",
       "9        h_w     1.758394     0.288903\n",
       "10       r_s  2650.000000  2650.000000\n",
       "11       res   100.000000   100.000000\n",
       "12       p_0     0.550000     0.550000\n",
       "13       e_0     0.090000     0.090000\n",
       "14       d_s     0.010000     0.010000\n",
       "15     n_0_b     0.800000     0.800000\n",
       "16     f_max    80.000000    80.000000\n",
       "17       r_0     6.000000     6.000000"
      ]
     },
     "execution_count": 32,
     "metadata": {},
     "output_type": "execute_result"
    }
   ],
   "source": [
    "pd.read_csv('../test/output/Py_fmi_par.csv')"
   ]
  },
  {
   "cell_type": "markdown",
   "metadata": {},
   "source": [
    "#### One out of two spectrum data with the reference parameters by `fmi_spectra`"
   ]
  },
  {
   "cell_type": "code",
   "execution_count": 33,
   "metadata": {},
   "outputs": [
    {
     "data": {
      "text/html": [
       "<div>\n",
       "<style scoped>\n",
       "    .dataframe tbody tr th:only-of-type {\n",
       "        vertical-align: middle;\n",
       "    }\n",
       "\n",
       "    .dataframe tbody tr th {\n",
       "        vertical-align: top;\n",
       "    }\n",
       "\n",
       "    .dataframe thead th {\n",
       "        text-align: right;\n",
       "    }\n",
       "</style>\n",
       "<table border=\"1\" class=\"dataframe\">\n",
       "  <thead>\n",
       "    <tr style=\"text-align: right;\">\n",
       "      <th></th>\n",
       "      <th>Frequency</th>\n",
       "      <th>Power</th>\n",
       "      <th>Turbulence</th>\n",
       "      <th>Bedload</th>\n",
       "    </tr>\n",
       "  </thead>\n",
       "  <tbody>\n",
       "    <tr>\n",
       "      <th>0</th>\n",
       "      <td>5.000000</td>\n",
       "      <td>-118.888054</td>\n",
       "      <td>-118.888054</td>\n",
       "      <td>-129.186632</td>\n",
       "    </tr>\n",
       "    <tr>\n",
       "      <th>1</th>\n",
       "      <td>5.757576</td>\n",
       "      <td>-117.503219</td>\n",
       "      <td>-117.503219</td>\n",
       "      <td>-126.184908</td>\n",
       "    </tr>\n",
       "    <tr>\n",
       "      <th>2</th>\n",
       "      <td>6.515152</td>\n",
       "      <td>-116.369094</td>\n",
       "      <td>-116.369094</td>\n",
       "      <td>-123.595194</td>\n",
       "    </tr>\n",
       "    <tr>\n",
       "      <th>3</th>\n",
       "      <td>7.272727</td>\n",
       "      <td>-115.426352</td>\n",
       "      <td>-115.426352</td>\n",
       "      <td>-121.325731</td>\n",
       "    </tr>\n",
       "    <tr>\n",
       "      <th>4</th>\n",
       "      <td>8.030303</td>\n",
       "      <td>-114.634361</td>\n",
       "      <td>-114.634361</td>\n",
       "      <td>-119.312350</td>\n",
       "    </tr>\n",
       "  </tbody>\n",
       "</table>\n",
       "</div>"
      ],
      "text/plain": [
       "   Frequency       Power  Turbulence     Bedload\n",
       "0   5.000000 -118.888054 -118.888054 -129.186632\n",
       "1   5.757576 -117.503219 -117.503219 -126.184908\n",
       "2   6.515152 -116.369094 -116.369094 -123.595194\n",
       "3   7.272727 -115.426352 -115.426352 -121.325731\n",
       "4   8.030303 -114.634361 -114.634361 -119.312350"
      ]
     },
     "execution_count": 33,
     "metadata": {},
     "output_type": "execute_result"
    }
   ],
   "source": [
    "pd.read_csv('../test/output/Py_fmi_ref_spectrum_1.csv').head(5)"
   ]
  },
  {
   "cell_type": "markdown",
   "metadata": {},
   "source": [
    "#### The plot of the spectrum data with the reference parameters by `fmi_spectra`\n",
    "![fmi_spectra_png](../test/output/Py_fmi_spectra.png)\n",
    "\n",
    "#### The inversion plot from the `fmi_inversion`\n",
    "![fmi_spectra_png](../test/output/Py_fmi_inversion.png)"
   ]
  },
  {
   "cell_type": "markdown",
   "metadata": {},
   "source": [
    "#### The original stations (WGS84 geographic coordinates)"
   ]
  },
  {
   "cell_type": "code",
   "execution_count": 34,
   "metadata": {},
   "outputs": [
    {
     "data": {
      "text/html": [
       "<div>\n",
       "<style scoped>\n",
       "    .dataframe tbody tr th:only-of-type {\n",
       "        vertical-align: middle;\n",
       "    }\n",
       "\n",
       "    .dataframe tbody tr th {\n",
       "        vertical-align: top;\n",
       "    }\n",
       "\n",
       "    .dataframe thead th {\n",
       "        text-align: right;\n",
       "    }\n",
       "</style>\n",
       "<table border=\"1\" class=\"dataframe\">\n",
       "  <thead>\n",
       "    <tr style=\"text-align: right;\">\n",
       "      <th></th>\n",
       "      <th>0</th>\n",
       "      <th>1</th>\n",
       "      <th>2</th>\n",
       "    </tr>\n",
       "  </thead>\n",
       "  <tbody>\n",
       "    <tr>\n",
       "      <th>0</th>\n",
       "      <td>NaN</td>\n",
       "      <td>x</td>\n",
       "      <td>y</td>\n",
       "    </tr>\n",
       "    <tr>\n",
       "      <th>1</th>\n",
       "      <td>1.0</td>\n",
       "      <td>25</td>\n",
       "      <td>25</td>\n",
       "    </tr>\n",
       "    <tr>\n",
       "      <th>2</th>\n",
       "      <td>2.0</td>\n",
       "      <td>75</td>\n",
       "      <td>75</td>\n",
       "    </tr>\n",
       "    <tr>\n",
       "      <th>3</th>\n",
       "      <td>3.0</td>\n",
       "      <td>50</td>\n",
       "      <td>90</td>\n",
       "    </tr>\n",
       "  </tbody>\n",
       "</table>\n",
       "</div>"
      ],
      "text/plain": [
       "     0   1   2\n",
       "0  NaN   x   y\n",
       "1  1.0  25  25\n",
       "2  2.0  75  75\n",
       "3  3.0  50  90"
      ]
     },
     "execution_count": 34,
     "metadata": {},
     "output_type": "execute_result"
    }
   ],
   "source": [
    "pd.read_csv('../R/output/R_original_stations.csv', header=None)"
   ]
  },
  {
   "cell_type": "markdown",
   "metadata": {},
   "source": [
    "#### The converted stations (UTM zone 32N) from `spatial_convert`"
   ]
  },
  {
   "cell_type": "code",
   "execution_count": 35,
   "metadata": {},
   "outputs": [
    {
     "data": {
      "text/html": [
       "<div>\n",
       "<style scoped>\n",
       "    .dataframe tbody tr th:only-of-type {\n",
       "        vertical-align: middle;\n",
       "    }\n",
       "\n",
       "    .dataframe tbody tr th {\n",
       "        vertical-align: top;\n",
       "    }\n",
       "\n",
       "    .dataframe thead th {\n",
       "        text-align: right;\n",
       "    }\n",
       "</style>\n",
       "<table border=\"1\" class=\"dataframe\">\n",
       "  <thead>\n",
       "    <tr style=\"text-align: right;\">\n",
       "      <th></th>\n",
       "      <th>0</th>\n",
       "      <th>1</th>\n",
       "      <th>2</th>\n",
       "    </tr>\n",
       "  </thead>\n",
       "  <tbody>\n",
       "    <tr>\n",
       "      <th>0</th>\n",
       "      <td>NaN</td>\n",
       "      <td>x</td>\n",
       "      <td>y</td>\n",
       "    </tr>\n",
       "    <tr>\n",
       "      <th>1</th>\n",
       "      <td>1.0</td>\n",
       "      <td>2128199.05236227</td>\n",
       "      <td>2862732.77717741</td>\n",
       "    </tr>\n",
       "    <tr>\n",
       "      <th>2</th>\n",
       "      <td>2.0</td>\n",
       "      <td>2041350.23413185</td>\n",
       "      <td>9303691.50251585</td>\n",
       "    </tr>\n",
       "    <tr>\n",
       "      <th>3</th>\n",
       "      <td>3.0</td>\n",
       "      <td>5e+05</td>\n",
       "      <td>9997964.943021</td>\n",
       "    </tr>\n",
       "  </tbody>\n",
       "</table>\n",
       "</div>"
      ],
      "text/plain": [
       "     0                 1                 2\n",
       "0  NaN                 x                 y\n",
       "1  1.0  2128199.05236227  2862732.77717741\n",
       "2  2.0  2041350.23413185  9303691.50251585\n",
       "3  3.0             5e+05    9997964.943021"
      ]
     },
     "execution_count": 35,
     "metadata": {},
     "output_type": "execute_result"
    }
   ],
   "source": [
    "pd.read_csv('../R/output/R_converted_stations.csv', header=None)"
   ]
  },
  {
   "cell_type": "markdown",
   "metadata": {},
   "source": [
    "#### The Digital Elevation Model with the stations from `spatial_distance`\n",
    "\n",
    "![image_from_sp_dist](../R/output/R_spatial_dist_0.png)\n",
    "\n",
    "#### This Is the distance matrix of the stations"
   ]
  },
  {
   "cell_type": "code",
   "execution_count": 38,
   "metadata": {},
   "outputs": [
    {
     "data": {
      "text/html": [
       "<div>\n",
       "<style scoped>\n",
       "    .dataframe tbody tr th:only-of-type {\n",
       "        vertical-align: middle;\n",
       "    }\n",
       "\n",
       "    .dataframe tbody tr th {\n",
       "        vertical-align: top;\n",
       "    }\n",
       "\n",
       "    .dataframe thead th {\n",
       "        text-align: right;\n",
       "    }\n",
       "</style>\n",
       "<table border=\"1\" class=\"dataframe\">\n",
       "  <thead>\n",
       "    <tr style=\"text-align: right;\">\n",
       "      <th></th>\n",
       "      <th>Unnamed: 0</th>\n",
       "      <th>1</th>\n",
       "      <th>2</th>\n",
       "      <th>3</th>\n",
       "    </tr>\n",
       "  </thead>\n",
       "  <tbody>\n",
       "    <tr>\n",
       "      <th>0</th>\n",
       "      <td>1</td>\n",
       "      <td>0.000000</td>\n",
       "      <td>222.117997</td>\n",
       "      <td>166.651687</td>\n",
       "    </tr>\n",
       "    <tr>\n",
       "      <th>1</th>\n",
       "      <td>2</td>\n",
       "      <td>222.117997</td>\n",
       "      <td>0.000000</td>\n",
       "      <td>91.692105</td>\n",
       "    </tr>\n",
       "    <tr>\n",
       "      <th>2</th>\n",
       "      <td>3</td>\n",
       "      <td>166.651687</td>\n",
       "      <td>91.692105</td>\n",
       "      <td>0.000000</td>\n",
       "    </tr>\n",
       "  </tbody>\n",
       "</table>\n",
       "</div>"
      ],
      "text/plain": [
       "   Unnamed: 0           1           2           3\n",
       "0           1    0.000000  222.117997  166.651687\n",
       "1           2  222.117997    0.000000   91.692105\n",
       "2           3  166.651687   91.692105    0.000000"
      ]
     },
     "execution_count": 38,
     "metadata": {},
     "output_type": "execute_result"
    }
   ],
   "source": [
    "pd.read_csv('../R/output/R_spatial_dist_matrix.csv')"
   ]
  },
  {
   "cell_type": "code",
   "execution_count": null,
   "metadata": {},
   "outputs": [],
   "source": []
  },
  {
   "cell_type": "markdown",
   "metadata": {},
   "source": [
    "#### The Most likely location for the signal amplitude from `spatial_amplitude` and `spatial_pmax`"
   ]
  },
  {
   "cell_type": "code",
   "execution_count": 39,
   "metadata": {},
   "outputs": [
    {
     "data": {
      "text/html": [
       "<div>\n",
       "<style scoped>\n",
       "    .dataframe tbody tr th:only-of-type {\n",
       "        vertical-align: middle;\n",
       "    }\n",
       "\n",
       "    .dataframe tbody tr th {\n",
       "        vertical-align: top;\n",
       "    }\n",
       "\n",
       "    .dataframe thead th {\n",
       "        text-align: right;\n",
       "    }\n",
       "</style>\n",
       "<table border=\"1\" class=\"dataframe\">\n",
       "  <thead>\n",
       "    <tr style=\"text-align: right;\">\n",
       "      <th></th>\n",
       "      <th>0</th>\n",
       "      <th>1</th>\n",
       "    </tr>\n",
       "  </thead>\n",
       "  <tbody>\n",
       "    <tr>\n",
       "      <th>0</th>\n",
       "      <td>NaN</td>\n",
       "      <td>x</td>\n",
       "    </tr>\n",
       "    <tr>\n",
       "      <th>1</th>\n",
       "      <td>1.0</td>\n",
       "      <td>25.5</td>\n",
       "    </tr>\n",
       "    <tr>\n",
       "      <th>2</th>\n",
       "      <td>2.0</td>\n",
       "      <td>24.5</td>\n",
       "    </tr>\n",
       "  </tbody>\n",
       "</table>\n",
       "</div>"
      ],
      "text/plain": [
       "     0     1\n",
       "0  NaN     x\n",
       "1  1.0  25.5\n",
       "2  2.0  24.5"
      ]
     },
     "execution_count": 39,
     "metadata": {},
     "output_type": "execute_result"
    }
   ],
   "source": [
    "pd.read_csv('../R/output/R_spatial_pmax.csv', header=None)"
   ]
  },
  {
   "cell_type": "markdown",
   "metadata": {},
   "source": [
    "#### The plot for the most likely signal\n",
    "\n",
    "![image_from_sp_dist](../R/output/R_spatial_ampl.png)\n",
    "![image_from_sp_dist](../R/output/R_spatial_ampl2.png)\n"
   ]
  },
  {
   "cell_type": "markdown",
   "metadata": {},
   "source": [
    "#### The clipped result from `spatial_clip`\n",
    "\n",
    "![image_from_sp_dist](../R/output/R_spatial_clip.png)\n"
   ]
  },
  {
   "cell_type": "markdown",
   "metadata": {},
   "source": [
    "#### The parameters created with `fmi_parameters`"
   ]
  },
  {
   "cell_type": "code",
   "execution_count": 40,
   "metadata": {},
   "outputs": [
    {
     "data": {
      "text/html": [
       "<div>\n",
       "<style scoped>\n",
       "    .dataframe tbody tr th:only-of-type {\n",
       "        vertical-align: middle;\n",
       "    }\n",
       "\n",
       "    .dataframe tbody tr th {\n",
       "        vertical-align: top;\n",
       "    }\n",
       "\n",
       "    .dataframe thead th {\n",
       "        text-align: right;\n",
       "    }\n",
       "</style>\n",
       "<table border=\"1\" class=\"dataframe\">\n",
       "  <thead>\n",
       "    <tr style=\"text-align: right;\">\n",
       "      <th></th>\n",
       "      <th>Unnamed: 0</th>\n",
       "      <th>d_s</th>\n",
       "      <th>s_s</th>\n",
       "      <th>r_s</th>\n",
       "      <th>q_s</th>\n",
       "      <th>w_w</th>\n",
       "      <th>a_w</th>\n",
       "      <th>h_w</th>\n",
       "      <th>f_min</th>\n",
       "      <th>f_max</th>\n",
       "      <th>...</th>\n",
       "      <th>f_max.9</th>\n",
       "      <th>r_0.9</th>\n",
       "      <th>f_0.9</th>\n",
       "      <th>q_0.9</th>\n",
       "      <th>v_0.9</th>\n",
       "      <th>p_0.9</th>\n",
       "      <th>e_0.9</th>\n",
       "      <th>n_0_a.9</th>\n",
       "      <th>n_0_b.9</th>\n",
       "      <th>res.9</th>\n",
       "    </tr>\n",
       "  </thead>\n",
       "  <tbody>\n",
       "    <tr>\n",
       "      <th>0</th>\n",
       "      <td>1</td>\n",
       "      <td>0.01</td>\n",
       "      <td>1.35</td>\n",
       "      <td>2650</td>\n",
       "      <td>0.00299</td>\n",
       "      <td>6</td>\n",
       "      <td>0.0075</td>\n",
       "      <td>0.760764</td>\n",
       "      <td>5</td>\n",
       "      <td>80</td>\n",
       "      <td>...</td>\n",
       "      <td>80</td>\n",
       "      <td>6</td>\n",
       "      <td>1</td>\n",
       "      <td>10</td>\n",
       "      <td>350</td>\n",
       "      <td>0.55</td>\n",
       "      <td>0.09</td>\n",
       "      <td>0.6</td>\n",
       "      <td>0.8</td>\n",
       "      <td>100</td>\n",
       "    </tr>\n",
       "  </tbody>\n",
       "</table>\n",
       "<p>1 rows × 181 columns</p>\n",
       "</div>"
      ],
      "text/plain": [
       "   Unnamed: 0   d_s   s_s   r_s      q_s  w_w     a_w       h_w  f_min  f_max  \\\n",
       "0           1  0.01  1.35  2650  0.00299    6  0.0075  0.760764      5     80   \n",
       "\n",
       "   ...  f_max.9  r_0.9  f_0.9  q_0.9  v_0.9  p_0.9  e_0.9  n_0_a.9  n_0_b.9  \\\n",
       "0  ...       80      6      1     10    350   0.55   0.09      0.6      0.8   \n",
       "\n",
       "   res.9  \n",
       "0    100  \n",
       "\n",
       "[1 rows x 181 columns]"
      ]
     },
     "execution_count": 40,
     "metadata": {},
     "output_type": "execute_result"
    }
   ],
   "source": [
    "pd.read_csv('../R/output/R_fmi_par.csv')"
   ]
  },
  {
   "cell_type": "markdown",
   "metadata": {},
   "source": [
    "#### One out of two spectrum data with the reference parameters by `fmi_spectra`"
   ]
  },
  {
   "cell_type": "code",
   "execution_count": 52,
   "metadata": {},
   "outputs": [
    {
     "data": {
      "text/html": [
       "<div>\n",
       "<style scoped>\n",
       "    .dataframe tbody tr th:only-of-type {\n",
       "        vertical-align: middle;\n",
       "    }\n",
       "\n",
       "    .dataframe tbody tr th {\n",
       "        vertical-align: top;\n",
       "    }\n",
       "\n",
       "    .dataframe thead th {\n",
       "        text-align: right;\n",
       "    }\n",
       "</style>\n",
       "<table border=\"1\" class=\"dataframe\">\n",
       "  <thead>\n",
       "    <tr style=\"text-align: right;\">\n",
       "      <th></th>\n",
       "      <th>pars.d_s \"pars.s_s\" \"pars.r_s\" \"pars.q_s\" \"pars.w_w\" \"pars.a_w\" \"pars.h_w\" \"pars.f_min\" \"pars.f_max\" \"pars.r_0\" \"pars.f_0\" \"pars.q_0\" \"pars.v_0\" \"pars.p_0\" \"pars.e_0\" \"pars.n_0_a\" \"pars.n_0_b\" \"pars.res\" \"frequency\" \"power\" \"pars.d_s.1\" \"pars.s_s.1\" \"pars.r_s.1\" \"pars.q_s.1\" \"pars.w_w.1\" \"pars.a_w.1\" \"pars.h_w.1\" \"pars.f_min.1\" \"pars.f_max.1\" \"pars.r_0.1\" \"pars.f_0.1\" \"pars.q_0.1\" \"pars.v_0.1\" \"pars.p_0.1\" \"pars.e_0.1\" \"pars.n_0_a.1\" \"pars.n_0_b.1\" \"pars.res.1\" \"frequency.1\" \"power.1\" \"pars.d_s.2\" \"pars.s_s.2\" \"pars.r_s.2\" \"pars.q_s.2\" \"pars.w_w.2\" \"pars.a_w.2\" \"pars.h_w.2\" \"pars.f_min.2\" \"pars.f_max.2\" \"pars.r_0.2\" \"pars.f_0.2\" \"pars.q_0.2\" \"pars.v_0.2\" \"pars.p_0.2\" \"pars.e_0.2\" \"pars.n_0_a.2\" \"pars.n_0_b.2\" \"pars.res.2\" \"frequency.2\" \"power.2\" \"pars.d_s.3\" \"pars.s_s.3\" \"pars.r_s.3\" \"pars.q_s.3\" \"pars.w_w.3\" \"pars.a_w.3\" \"pars.h_w.3\" \"pars.f_min.3\" \"pars.f_max.3\" \"pars.r_0.3\" \"pars.f_0.3\" \"pars.q_0.3\" \"pars.v_0.3\" \"pars.p_0.3\" \"pars.e_0.3\" \"pars.n_0_a.3\" \"pars.n_0_b.3\" \"pars.res.3\" \"frequency.3\" \"power.3\" \"pars.d_s.4\" \"pars.s_s.4\" \"pars.r_s.4\" \"pars.q_s.4\" \"pars.w_w.4\" \"pars.a_w.4\" \"pars.h_w.4\" \"pars.f_min.4\" \"pars.f_max.4\" \"pars.r_0.4\" \"pars.f_0.4\" \"pars.q_0.4\" \"pars.v_0.4\" \"pars.p_0.4\" \"pars.e_0.4\" \"pars.n_0_a.4\" \"pars.n_0_b.4\" \"pars.res.4\" \"frequency.4\" \"power.4\" \"pars.d_s.5\" \"pars.s_s.5\" \"pars.r_s.5\" \"pars.q_s.5\" \"pars.w_w.5\" \"pars.a_w.5\" \"pars.h_w.5\" \"pars.f_min.5\" \"pars.f_max.5\" \"pars.r_0.5\" \"pars.f_0.5\" \"pars.q_0.5\" \"pars.v_0.5\" \"pars.p_0.5\" \"pars.e_0.5\" \"pars.n_0_a.5\" \"pars.n_0_b.5\" \"pars.res.5\" \"frequency.5\" \"power.5\" \"pars.d_s.6\" \"pars.s_s.6\" \"pars.r_s.6\" \"pars.q_s.6\" \"pars.w_w.6\" \"pars.a_w.6\" \"pars.h_w.6\" \"pars.f_min.6\" \"pars.f_max.6\" \"pars.r_0.6\" \"pars.f_0.6\" \"pars.q_0.6\" \"pars.v_0.6\" \"pars.p_0.6\" \"pars.e_0.6\" \"pars.n_0_a.6\" \"pars.n_0_b.6\" \"pars.res.6\" \"frequency.6\" \"power.6\" \"pars.d_s.7\" \"pars.s_s.7\" \"pars.r_s.7\" \"pars.q_s.7\" \"pars.w_w.7\" \"pars.a_w.7\" \"pars.h_w.7\" \"pars.f_min.7\" \"pars.f_max.7\" \"pars.r_0.7\" \"pars.f_0.7\" \"pars.q_0.7\" \"pars.v_0.7\" \"pars.p_0.7\" \"pars.e_0.7\" \"pars.n_0_a.7\" \"pars.n_0_b.7\" \"pars.res.7\" \"frequency.7\" \"power.7\" \"pars.d_s.8\" \"pars.s_s.8\" \"pars.r_s.8\" \"pars.q_s.8\" \"pars.w_w.8\" \"pars.a_w.8\" \"pars.h_w.8\" \"pars.f_min.8\" \"pars.f_max.8\" \"pars.r_0.8\" \"pars.f_0.8\" \"pars.q_0.8\" \"pars.v_0.8\" \"pars.p_0.8\" \"pars.e_0.8\" \"pars.n_0_a.8\" \"pars.n_0_b.8\" \"pars.res.8\" \"frequency.8\" \"power.8\" \"pars.d_s.9\" \"pars.s_s.9\" \"pars.r_s.9\" \"pars.q_s.9\" \"pars.w_w.9\" \"pars.a_w.9\" \"pars.h_w.9\" \"pars.f_min.9\" \"pars.f_max.9\" \"pars.r_0.9\" \"pars.f_0.9\" \"pars.q_0.9\" \"pars.v_0.9\" \"pars.p_0.9\" \"pars.e_0.9\" \"pars.n_0_a.9\" \"pars.n_0_b.9\" \"pars.res.9\" \"frequency.9\" \"power.9\"</th>\n",
       "    </tr>\n",
       "  </thead>\n",
       "  <tbody>\n",
       "    <tr>\n",
       "      <th>0</th>\n",
       "      <td>1 0.01 1.35 2650 0.00299037254377426 6 0.0075 ...</td>\n",
       "    </tr>\n",
       "    <tr>\n",
       "      <th>1</th>\n",
       "      <td>2 0.01 1.35 2650 0.00299037254377426 6 0.0075 ...</td>\n",
       "    </tr>\n",
       "    <tr>\n",
       "      <th>2</th>\n",
       "      <td>3 0.01 1.35 2650 0.00299037254377426 6 0.0075 ...</td>\n",
       "    </tr>\n",
       "    <tr>\n",
       "      <th>3</th>\n",
       "      <td>4 0.01 1.35 2650 0.00299037254377426 6 0.0075 ...</td>\n",
       "    </tr>\n",
       "    <tr>\n",
       "      <th>4</th>\n",
       "      <td>5 0.01 1.35 2650 0.00299037254377426 6 0.0075 ...</td>\n",
       "    </tr>\n",
       "  </tbody>\n",
       "</table>\n",
       "</div>"
      ],
      "text/plain": [
       "  pars.d_s \"pars.s_s\" \"pars.r_s\" \"pars.q_s\" \"pars.w_w\" \"pars.a_w\" \"pars.h_w\" \"pars.f_min\" \"pars.f_max\" \"pars.r_0\" \"pars.f_0\" \"pars.q_0\" \"pars.v_0\" \"pars.p_0\" \"pars.e_0\" \"pars.n_0_a\" \"pars.n_0_b\" \"pars.res\" \"frequency\" \"power\" \"pars.d_s.1\" \"pars.s_s.1\" \"pars.r_s.1\" \"pars.q_s.1\" \"pars.w_w.1\" \"pars.a_w.1\" \"pars.h_w.1\" \"pars.f_min.1\" \"pars.f_max.1\" \"pars.r_0.1\" \"pars.f_0.1\" \"pars.q_0.1\" \"pars.v_0.1\" \"pars.p_0.1\" \"pars.e_0.1\" \"pars.n_0_a.1\" \"pars.n_0_b.1\" \"pars.res.1\" \"frequency.1\" \"power.1\" \"pars.d_s.2\" \"pars.s_s.2\" \"pars.r_s.2\" \"pars.q_s.2\" \"pars.w_w.2\" \"pars.a_w.2\" \"pars.h_w.2\" \"pars.f_min.2\" \"pars.f_max.2\" \"pars.r_0.2\" \"pars.f_0.2\" \"pars.q_0.2\" \"pars.v_0.2\" \"pars.p_0.2\" \"pars.e_0.2\" \"pars.n_0_a.2\" \"pars.n_0_b.2\" \"pars.res.2\" \"frequency.2\" \"power.2\" \"pars.d_s.3\" \"pars.s_s.3\" \"pars.r_s.3\" \"pars.q_s.3\" \"pars.w_w.3\" \"pars.a_w.3\" \"pars.h_w.3\" \"pars.f_min.3\" \"pars.f_max.3\" \"pars.r_0.3\" \"pars.f_0.3\" \"pars.q_0.3\" \"pars.v_0.3\" \"pars.p_0.3\" \"pars.e_0.3\" \"pars.n_0_a.3\" \"pars.n_0_b.3\" \"pars.res.3\" \"frequency.3\" \"power.3\" \"pars.d_s.4\" \"pars.s_s.4\" \"pars.r_s.4\" \"pars.q_s.4\" \"pars.w_w.4\" \"pars.a_w.4\" \"pars.h_w.4\" \"pars.f_min.4\" \"pars.f_max.4\" \"pars.r_0.4\" \"pars.f_0.4\" \"pars.q_0.4\" \"pars.v_0.4\" \"pars.p_0.4\" \"pars.e_0.4\" \"pars.n_0_a.4\" \"pars.n_0_b.4\" \"pars.res.4\" \"frequency.4\" \"power.4\" \"pars.d_s.5\" \"pars.s_s.5\" \"pars.r_s.5\" \"pars.q_s.5\" \"pars.w_w.5\" \"pars.a_w.5\" \"pars.h_w.5\" \"pars.f_min.5\" \"pars.f_max.5\" \"pars.r_0.5\" \"pars.f_0.5\" \"pars.q_0.5\" \"pars.v_0.5\" \"pars.p_0.5\" \"pars.e_0.5\" \"pars.n_0_a.5\" \"pars.n_0_b.5\" \"pars.res.5\" \"frequency.5\" \"power.5\" \"pars.d_s.6\" \"pars.s_s.6\" \"pars.r_s.6\" \"pars.q_s.6\" \"pars.w_w.6\" \"pars.a_w.6\" \"pars.h_w.6\" \"pars.f_min.6\" \"pars.f_max.6\" \"pars.r_0.6\" \"pars.f_0.6\" \"pars.q_0.6\" \"pars.v_0.6\" \"pars.p_0.6\" \"pars.e_0.6\" \"pars.n_0_a.6\" \"pars.n_0_b.6\" \"pars.res.6\" \"frequency.6\" \"power.6\" \"pars.d_s.7\" \"pars.s_s.7\" \"pars.r_s.7\" \"pars.q_s.7\" \"pars.w_w.7\" \"pars.a_w.7\" \"pars.h_w.7\" \"pars.f_min.7\" \"pars.f_max.7\" \"pars.r_0.7\" \"pars.f_0.7\" \"pars.q_0.7\" \"pars.v_0.7\" \"pars.p_0.7\" \"pars.e_0.7\" \"pars.n_0_a.7\" \"pars.n_0_b.7\" \"pars.res.7\" \"frequency.7\" \"power.7\" \"pars.d_s.8\" \"pars.s_s.8\" \"pars.r_s.8\" \"pars.q_s.8\" \"pars.w_w.8\" \"pars.a_w.8\" \"pars.h_w.8\" \"pars.f_min.8\" \"pars.f_max.8\" \"pars.r_0.8\" \"pars.f_0.8\" \"pars.q_0.8\" \"pars.v_0.8\" \"pars.p_0.8\" \"pars.e_0.8\" \"pars.n_0_a.8\" \"pars.n_0_b.8\" \"pars.res.8\" \"frequency.8\" \"power.8\" \"pars.d_s.9\" \"pars.s_s.9\" \"pars.r_s.9\" \"pars.q_s.9\" \"pars.w_w.9\" \"pars.a_w.9\" \"pars.h_w.9\" \"pars.f_min.9\" \"pars.f_max.9\" \"pars.r_0.9\" \"pars.f_0.9\" \"pars.q_0.9\" \"pars.v_0.9\" \"pars.p_0.9\" \"pars.e_0.9\" \"pars.n_0_a.9\" \"pars.n_0_b.9\" \"pars.res.9\" \"frequency.9\" \"power.9\"\n",
       "0  1 0.01 1.35 2650 0.00299037254377426 6 0.0075 ...                                                                                                                                                                                                                                                                                                                                                                                                                                                                                                                                                                                                                                                                                                                                                                                                                                                                                                                                                                                                                                                                                                                                                                                                                                                                                                                                                                                                                                                                                                                                                                                                                                                                                                                                                                                                                                                                                                                                                                                                                                                                                                                                                                                                                                                                                                                                                                                                                                                                                                                                                                                                                                                                       \n",
       "1  2 0.01 1.35 2650 0.00299037254377426 6 0.0075 ...                                                                                                                                                                                                                                                                                                                                                                                                                                                                                                                                                                                                                                                                                                                                                                                                                                                                                                                                                                                                                                                                                                                                                                                                                                                                                                                                                                                                                                                                                                                                                                                                                                                                                                                                                                                                                                                                                                                                                                                                                                                                                                                                                                                                                                                                                                                                                                                                                                                                                                                                                                                                                                                                       \n",
       "2  3 0.01 1.35 2650 0.00299037254377426 6 0.0075 ...                                                                                                                                                                                                                                                                                                                                                                                                                                                                                                                                                                                                                                                                                                                                                                                                                                                                                                                                                                                                                                                                                                                                                                                                                                                                                                                                                                                                                                                                                                                                                                                                                                                                                                                                                                                                                                                                                                                                                                                                                                                                                                                                                                                                                                                                                                                                                                                                                                                                                                                                                                                                                                                                       \n",
       "3  4 0.01 1.35 2650 0.00299037254377426 6 0.0075 ...                                                                                                                                                                                                                                                                                                                                                                                                                                                                                                                                                                                                                                                                                                                                                                                                                                                                                                                                                                                                                                                                                                                                                                                                                                                                                                                                                                                                                                                                                                                                                                                                                                                                                                                                                                                                                                                                                                                                                                                                                                                                                                                                                                                                                                                                                                                                                                                                                                                                                                                                                                                                                                                                       \n",
       "4  5 0.01 1.35 2650 0.00299037254377426 6 0.0075 ...                                                                                                                                                                                                                                                                                                                                                                                                                                                                                                                                                                                                                                                                                                                                                                                                                                                                                                                                                                                                                                                                                                                                                                                                                                                                                                                                                                                                                                                                                                                                                                                                                                                                                                                                                                                                                                                                                                                                                                                                                                                                                                                                                                                                                                                                                                                                                                                                                                                                                                                                                                                                                                                                       "
      ]
     },
     "execution_count": 52,
     "metadata": {},
     "output_type": "execute_result"
    }
   ],
   "source": [
    "pd.read_csv('../R/output/R_fmi_spec.csv').head(5)"
   ]
  },
  {
   "cell_type": "markdown",
   "metadata": {},
   "source": [
    "#### The inversion plot from the `fmi_inversion`\n",
    "![fmi_spectra_png](../R/output/R_fmi_inversion0.png)\n",
    "![fmi_spectra_png](../R/output/R_fmi_inversion1.png)"
   ]
  },
  {
   "cell_type": "markdown",
   "metadata": {},
   "source": []
  }
 ],
 "metadata": {
  "kernelspec": {
   "display_name": "Python 3 (ipykernel)",
   "language": "python",
   "name": "python3"
  },
  "language_info": {
   "codemirror_mode": {
    "name": "ipython",
    "version": 3
   },
   "file_extension": ".py",
   "mimetype": "text/x-python",
   "name": "python",
   "nbconvert_exporter": "python",
   "pygments_lexer": "ipython3",
   "version": "3.10.0"
  }
 },
 "nbformat": 4,
 "nbformat_minor": 4
}
